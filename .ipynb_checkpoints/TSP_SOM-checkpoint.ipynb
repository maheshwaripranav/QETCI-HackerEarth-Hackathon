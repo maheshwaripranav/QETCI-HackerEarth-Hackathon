{
 "cells": [
  {
   "cell_type": "markdown",
   "metadata": {},
   "source": [
    "# Solving Travelling Salesman Problem by Self Organizing Maps"
   ]
  },
  {
   "cell_type": "code",
   "execution_count": 82,
   "metadata": {
    "tags": []
   },
   "outputs": [],
   "source": [
    "import numpy as np\n",
    "import pandas as pd"
   ]
  },
  {
   "cell_type": "markdown",
   "metadata": {},
   "source": [
    "## Essential Definitons"
   ]
  },
  {
   "cell_type": "code",
   "execution_count": 93,
   "metadata": {},
   "outputs": [],
   "source": [
    "def normalize(points):\n",
    "    points = points.transpose()\n",
    "    ratio = (points[0].max() - points[0].min()) / (points[1].max() - points[1].min()), 1\n",
    "    ratio = np.array(ratio) / max(ratio)\n",
    "    norm = points.apply(lambda c: (c - c.min()) / (c.max() - c.min()))\n",
    "    return norm.apply(lambda p: ratio * p, axis=1)"
   ]
  },
  {
   "cell_type": "code",
   "execution_count": 84,
   "metadata": {},
   "outputs": [],
   "source": [
    "def euclidean_distance(a, b):\n",
    "    \"\"\"Return the array of distances of two numpy arrays of points.\"\"\"\n",
    "    return np.linalg.norm(a - b, axis=1)"
   ]
  },
  {
   "cell_type": "code",
   "execution_count": 85,
   "metadata": {},
   "outputs": [],
   "source": [
    "def get_neighborhood(center, radix, domain):\n",
    "\n",
    "    # Impose an upper bound on the radix to prevent NaN and blocks\n",
    "    if radix < 1:\n",
    "        radix = 1\n",
    "\n",
    "    # Compute the circular network distance to the center\n",
    "    deltas = np.absolute(center - np.arange(domain))\n",
    "    distances = np.minimum(deltas, domain - deltas)\n",
    "\n",
    "    # Compute Gaussian distribution around the given center\n",
    "    return np.exp(-(distances*distances) / (2*(radix*radix)))"
   ]
  },
  {
   "cell_type": "code",
   "execution_count": 87,
   "metadata": {},
   "outputs": [],
   "source": [
    "def get_route(cities, network):\n",
    "    \"\"\"Return the route computed by a network.\"\"\"\n",
    "    cities['winner'] = cities[['x', 'y']].apply(\n",
    "        lambda c: select_closest(network, c),\n",
    "        axis=1, raw=True)\n",
    "\n",
    "    return cities.sort_values('winner').index"
   ]
  },
  {
   "cell_type": "markdown",
   "metadata": {},
   "source": [
    "## SOM Code Begins"
   ]
  },
  {
   "cell_type": "code",
   "execution_count": 86,
   "metadata": {},
   "outputs": [],
   "source": [
    "f = open('Dataset/locations_mumbai.csv')\n",
    "cities = pd.read_csv(f)\n",
    "cities = cities[['Longitude', 'Latitude']]"
   ]
  },
  {
   "cell_type": "code",
   "execution_count": 95,
   "metadata": {},
   "outputs": [
    {
     "ename": "NameError",
     "evalue": "name 'city' is not defined",
     "output_type": "error",
     "traceback": [
      "\u001b[1;31m---------------------------------------------------------------------------\u001b[0m",
      "\u001b[1;31mNameError\u001b[0m                                 Traceback (most recent call last)",
      "Input \u001b[1;32mIn [95]\u001b[0m, in \u001b[0;36m<cell line: 7>\u001b[1;34m()\u001b[0m\n\u001b[0;32m      4\u001b[0m np\u001b[38;5;241m.\u001b[39mrandom\u001b[38;5;241m.\u001b[39mseed(\u001b[38;5;241m1024\u001b[39m)\n\u001b[0;32m      6\u001b[0m \u001b[38;5;66;03m# city = normalize(cities)\u001b[39;00m\n\u001b[1;32m----> 7\u001b[0m network \u001b[38;5;241m=\u001b[39m np\u001b[38;5;241m.\u001b[39mrandom\u001b[38;5;241m.\u001b[39mrand(\u001b[38;5;28mlen\u001b[39m(\u001b[43mcity\u001b[49m),\u001b[38;5;241m2\u001b[39m)\n\u001b[0;32m      9\u001b[0m \u001b[38;5;28;01mfor\u001b[39;00m i \u001b[38;5;129;01min\u001b[39;00m \u001b[38;5;28mrange\u001b[39m(iterations):\n\u001b[0;32m     10\u001b[0m     winner  \u001b[38;5;241m=\u001b[39m euclidean_distance(network, city\u001b[38;5;241m.\u001b[39msample(\u001b[38;5;241m1\u001b[39m)\u001b[38;5;241m.\u001b[39mvalues)\u001b[38;5;241m.\u001b[39margmin()\n",
      "\u001b[1;31mNameError\u001b[0m: name 'city' is not defined"
     ]
    }
   ],
   "source": [
    "eta = 1\n",
    "radii = 1\n",
    "iterations = 100\n",
    "np.random.seed(1024)\n",
    "\n",
    "city = normalize(cities)\n",
    "network = np.random.rand(len(city),2)\n",
    "\n",
    "for i in range(iterations):\n",
    "    winner  = euclidean_distance(network, city.sample(1).values).argmin()\n",
    "    gaussian= get_neighborhood(winner, int(radii), len(city))\n",
    "    network+= gaussian[:, np.newaxis]*eta*(city - network)\n",
    "    eta = eta*0.99997\n",
    "    radii = radii*0.9997\n",
    "    \n",
    "    if radii < 0.1:\n",
    "        print(f\"Radius has decayed at {i} iterations. Can't computer further.\")\n",
    "        break\n",
    "\n",
    "route = get_route(city, network)\n",
    "# city['winner'] = city.apply(lambda c: euclidean_distance(network, c).argmin(), axis=1, raw=True\n",
    "\n",
    "# city.sort_values('winner').index\n",
    "# city\n",
    "cities = cities.reindex(route)\n",
    "distance = np.sum(euclidean_distance(cities, np.roll(city, 1, axis=0)))\n",
    "print('Length of Route:', distance)"
   ]
  }
 ],
 "metadata": {
  "kernelspec": {
   "display_name": "Python 3 (ipykernel)",
   "language": "python",
   "name": "python3"
  },
  "language_info": {
   "codemirror_mode": {
    "name": "ipython",
    "version": 3
   },
   "file_extension": ".py",
   "mimetype": "text/x-python",
   "name": "python",
   "nbconvert_exporter": "python",
   "pygments_lexer": "ipython3",
   "version": "3.10.6"
  },
  "vscode": {
   "interpreter": {
    "hash": "da86e0521eaa888c31d8463847791b19d5bdeb3dec9781ca08a465cd32afc3bc"
   }
  }
 },
 "nbformat": 4,
 "nbformat_minor": 4
}
