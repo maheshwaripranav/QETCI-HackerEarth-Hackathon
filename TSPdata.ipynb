{
 "cells": [
  {
   "cell_type": "code",
   "execution_count": 16,
   "id": "39eaa1e0-4b64-47a5-83e3-96a406438a11",
   "metadata": {},
   "outputs": [
    {
     "name": "stderr",
     "output_type": "stream",
     "text": [
      "ibmqfactory.load_account:WARNING:2022-10-21 16:24:45,205: Credentials are already in use. The existing account in the session will be replaced.\n"
     ]
    }
   ],
   "source": [
    "import numpy as np\n",
    "\n",
    "# Importing standard Qiskit libraries\n",
    "from qiskit import QuantumCircuit, transpile, Aer, IBMQ\n",
    "from qiskit.tools.jupyter import *\n",
    "from qiskit.visualization import *\n",
    "from ibm_quantum_widgets import *\n",
    "from qiskit.providers.aer import QasmSimulator\n",
    "\n",
    "# Loading your IBM Quantum account(s)\n",
    "provider = IBMQ.load_account()"
   ]
  },
  {
   "cell_type": "code",
   "execution_count": 17,
   "id": "a9b1d585-432b-40a3-be01-5f7f0878c032",
   "metadata": {},
   "outputs": [],
   "source": [
    "# Lets import all the necessary libraries\n",
    "from qiskit import QuantumCircuit, Aer, QuantumRegister, ClassicalRegister, execute\n",
    "from qiskit.visualization import plot_histogram, array_to_latex\n",
    "from qiskit.circuit.library import QFT\n",
    "from numpy import pi"
   ]
  },
  {
   "cell_type": "code",
   "execution_count": 18,
   "id": "be8d357b-e7d3-4afb-b4d2-61d26a1ed5f5",
   "metadata": {},
   "outputs": [],
   "source": [
    "def controlled_unitary(qc, qubits: list, phases: list): # x,y,z = Specific Qubit; a,b,c,d = Phases\n",
    "    qc.cp(phases[2]-phases[0], qubits[0], qubits[1]) # controlled-U1(c-a)\n",
    "    qc.p(phases[0], qubits[0]) # U1(a)\n",
    "    qc.cp(phases[1]-phases[0], qubits[0], qubits[2]) # controlled-U1(b-a)\n",
    "    \n",
    "    # controlled controlled U1(d-c+a-b)\n",
    "    qc.cp((phases[3]-phases[2]+phases[0]-phases[1])/2, qubits[1], qubits[2])\n",
    "    qc.cx(qubits[0], qubits[1])\n",
    "    qc.cp(-(phases[3]-phases[2]+phases[0]-phases[1])/2, qubits[1], qubits[2])\n",
    "    qc.cx(qubits[0], qubits[1])\n",
    "    qc.cp((phases[3]-phases[2]+phases[0]-phases[1])/2, qubits[0], qubits[2])"
   ]
  },
  {
   "cell_type": "code",
   "execution_count": 19,
   "id": "15358805-7d92-479e-9c6a-b04335144782",
   "metadata": {},
   "outputs": [],
   "source": [
    "def U(times, qc, unit, eigen, phases: list): # a,b,c = phases for U1; d,e,f = phases for U2; g,h,i = phases for U3; j,k,l = phases for U4; m_list=[m, n, o, p, q, r, s, t, u, a, b, c, d, e, f, g, h, i, j, k, l]\n",
    "    controlled_unitary(qc, [unit[0]]+eigen[0:2], [0]+phases[0:3])\n",
    "    controlled_unitary(qc, [unit[0]]+eigen[2:4], [phases[3]]+[0]+phases[4:6])\n",
    "    controlled_unitary(qc, [unit[0]]+eigen[4:6], phases[6:8]+[0]+[phases[8]])\n",
    "    controlled_unitary(qc, [unit[0]]+eigen[6:8], phases[9:12]+[0])"
   ]
  },
  {
   "cell_type": "code",
   "execution_count": 20,
   "id": "b774d3c7-2e83-4c3d-833d-7480b1598799",
   "metadata": {},
   "outputs": [],
   "source": [
    "def final_U(times, eigen, phases: list):\n",
    "    unit = QuantumRegister(1, 'unit')\n",
    "    qc = QuantumCircuit(unit, eigen)\n",
    "    for _ in range(2**times):\n",
    "        U(times, qc, unit, eigen, phases)\n",
    "    return qc.to_gate(label='U'+'_'+(str(2**times)))"
   ]
  },
  {
   "cell_type": "code",
   "execution_count": 21,
   "id": "406e3550-d0d6-4d95-b13b-5eb7b2dd0663",
   "metadata": {},
   "outputs": [],
   "source": [
    "# Storing the eigenvalues in a list\n",
    "eigen_values = [\"11000110\", \"01001110\", \"10001101\", \"11001001\", \"10000111\", \"01001011\"]\n",
    "\n",
    "# Function to place appropriate corresponding gate according to eigenstates\n",
    "def eigenstates(qc, eigen, index):\n",
    "    for i in range(0, len(eigen)):\n",
    "        if eigen_values[index][i] == '1':\n",
    "            qc.x(eigen[i])\n",
    "        if eigen_values[index][i] == '0':\n",
    "            pass\n",
    "    qc.barrier()\n",
    "    return qc"
   ]
  },
  {
   "cell_type": "code",
   "execution_count": 1,
   "id": "4f11e4f4-d1b2-49ba-82c0-ff61b442caa9",
   "metadata": {},
   "outputs": [
    {
     "name": "stdout",
     "output_type": "stream",
     "text": [
      "Traceback \u001b[1;36m(most recent call last)\u001b[0m:\n",
      "\u001b[1;36m  Input \u001b[1;32mIn [1]\u001b[1;36m in \u001b[1;35m<cell line: 1>\u001b[1;36m\u001b[0m\n",
      "\u001b[1;33m    unit = QuantumRegister(6, 'unit')\u001b[0m\n",
      "\u001b[1;31mNameError\u001b[0m\u001b[1;31m:\u001b[0m name 'QuantumRegister' is not defined\n",
      "\n",
      "Use %tb to get the full traceback.\n"
     ]
    },
    {
     "data": {
      "text/html": [
       "\n",
       "<style>\n",
       ".button {\n",
       "  border: none;\n",
       "  color: white;\n",
       "  padding: 4px 8px;\n",
       "  text-align: center;\n",
       "  text-decoration: none;\n",
       "  display: inline-block;\n",
       "  font-size: 12px;\n",
       "  margin: 4px 2px;\n",
       "  transition-duration: 0.2s;\n",
       "  cursor: pointer;\n",
       "}\n",
       ".iqx-button {\n",
       "  background-color: #0f62fe; \n",
       "  color: white; \n",
       "}\n",
       ".iqx-button:hover {\n",
       "  background-color: #0043ce;\n",
       "  color: white;\n",
       "}\n",
       "</style>\n",
       "<a href=\"https://stackoverflow.com/search?q=NameError: name 'QuantumRegister' is not defined\" target='_blank'><button class='button iqx-button'>Search for solution online</button></a>\n"
      ],
      "text/plain": [
       "<IPython.core.display.HTML object>"
      ]
     },
     "metadata": {},
     "output_type": "display_data"
    }
   ],
   "source": [
    "for i in range (0,6):\n",
    "    # Initialization\n",
    "    unit = QuantumRegister(6, 'unit')\n",
    "    eigen = QuantumRegister(8, 'eigen')\n",
    "    unit_classical = ClassicalRegister(6, 'unit_classical')\n",
    "    qc = QuantumCircuit(unit, eigen, unit_classical)\n",
    "    #\n",
    "\n",
    "    # Setting one eigenstate \n",
    "    # Playing with the first eigenstate here i.e. 11000110 from eigen_values list.\n",
    "    # (Try to play with other eigenstates from the eigen_values list)\n",
    "    eigenstates(qc, eigen, 2)\n",
    "    #\n",
    "\n",
    "    # Hadamard on the 'unit' qubits\n",
    "    qc.h(unit[:])\n",
    "    qc.barrier()\n",
    "    #\n",
    "\n",
    "    # Controlled Unitary  \n",
    "\n",
    "    phases = [pi /2 , pi / 8, pi /4 , pi /2 , pi /4 , pi /4, pi /8 , pi /4 , pi / 8, pi /4 , pi / 4, pi / 8] # a, b, c, d, e, f, g, h, i, j, k, l\n",
    "    for i in range(0, 6):\n",
    "        qc.append(final_U(i, eigen, phases), [unit[5-i]] + eigen[:])\n",
    "\n",
    "    #print(phases)\n",
    "    #\n",
    "\n",
    "\n",
    "    # Inverse QFT \n",
    "    qc.barrier()\n",
    "    qft = QFT(num_qubits=len(unit), inverse=True, insert_barriers=True, do_swaps=False, name='Inverse QFT')\n",
    "    qc.append(qft, qc.qubits[:len(unit)])\n",
    "    qc.barrier()\n",
    "    #\n",
    "\n",
    "    # Measure\n",
    "    qc.measure(unit, unit_classical)\n",
    "    #\n",
    "\n",
    "    # Draw\n",
    "\n",
    "    qc.draw()\n",
    "\n",
    "    backend = Aer.get_backend('qasm_simulator')\n",
    "    job = execute(qc, backend, shots=8192)\n",
    "    count = job.result().get_counts()\n",
    "    print(count)\n",
    "\n",
    "    with open (\"results.txt\",\"a\") as output_file:\n",
    "        mylist = list(count.keys())\n",
    "        output_file.write(mylist[0])\n",
    "        output_file.write(\"\\n\")"
   ]
  },
  {
   "cell_type": "code",
   "execution_count": null,
   "id": "8996c145-e074-4111-897d-e88db3bac26f",
   "metadata": {},
   "outputs": [],
   "source": []
  }
 ],
 "metadata": {
  "kernelspec": {
   "display_name": "Python 3 (ipykernel)",
   "language": "python",
   "name": "python3"
  },
  "language_info": {
   "codemirror_mode": {
    "name": "ipython",
    "version": 3
   },
   "file_extension": ".py",
   "mimetype": "text/x-python",
   "name": "python",
   "nbconvert_exporter": "python",
   "pygments_lexer": "ipython3",
   "version": "3.8.13"
  },
  "widgets": {
   "application/vnd.jupyter.widget-state+json": {
    "state": {},
    "version_major": 2,
    "version_minor": 0
   }
  }
 },
 "nbformat": 4,
 "nbformat_minor": 5
}
