{
 "cells": [
  {
   "cell_type": "markdown",
   "id": "59030da3",
   "metadata": {},
   "source": [
    "# TRAVELLING SALESMAN WITH QAOA\n"
   ]
  },
  {
   "cell_type": "markdown",
   "id": "cc0ca097",
   "metadata": {},
   "source": [
    "## Introduction\n",
    " \n",
    "Travelling Salesman is a very important problem and can be used to optimise a travel route for delivery and logistics companies.\n",
    "\n",
    "The following resources have been used:\n",
    "1. https://github.com/Qiskit/qiskit-optimization/blob/main/docs/tutorials/06_examples_max_cut_and_tsp.ipynb\n",
    "2. https://github.com/QuCO-CSAM/Solving-Combinatorial-Optimisation-Problems-Using-Quantum-Algorithms/blob/main/TravellingSalesmanProblem/Code/TSP_QAOA_Algorithm.ipynb\n",
    "\n",
    "This notebook makes use of 3 and 4 Indian cities and the distance between them for our data\n",
    "\n",
    "### QAOA for a 3 cities example"
   ]
  },
  {
   "cell_type": "code",
   "execution_count": 1,
   "id": "6069aa35",
   "metadata": {},
   "outputs": [],
   "source": [
    "# Importing all the necessary modules for both the cases\n",
    "\n",
    "import numpy as np\n",
    "import pandas as pd\n",
    "import matplotlib.pyplot as plt\n",
    "%matplotlib inline\n",
    "import seaborn as sn\n",
    "from itertools import permutations\n",
    "import gzip\n",
    "from qiskit import*\n",
    "import time\n",
    "from qiskit.algorithms import QAOA\n",
    "from qiskit.algorithms.optimizers import SPSA,COBYLA\n",
    "from qiskit import IBMQ\n",
    "from qiskit import ClassicalRegister, QuantumRegister, QuantumCircuit\n",
    "import qiskit_optimization\n",
    "import qiskit_optimization.applications.tsp as tsp\n",
    "from qiskit.circuit.library import TwoLocal\n",
    "from qiskit.circuit.library import RealAmplitudes\n",
    "import matplotlib.axes as axes\n",
    "import networkx as nx\n",
    "from qiskit_optimization.applications import Tsp\n",
    "from qiskit.algorithms import NumPyMinimumEigensolver\n",
    "from qiskit.utils import algorithm_globals, QuantumInstance\n",
    "from qiskit_optimization.algorithms import MinimumEigenOptimizer\n",
    "from qiskit_optimization.problems import QuadraticProgram"
   ]
  },
  {
   "cell_type": "code",
   "execution_count": 2,
   "id": "04d52aa3",
   "metadata": {},
   "outputs": [],
   "source": [
    "#Importing the data\n",
    "\n",
    "distance_data = pd.read_csv('C:\\\\Users\\\\Abha N K\\\\Downloads\\\\Dataset self composed - Copy of distance.csv',index_col = \"City- Distance (km)\")"
   ]
  },
  {
   "cell_type": "code",
   "execution_count": 3,
   "id": "7a3036db",
   "metadata": {},
   "outputs": [
    {
     "data": {
      "text/html": [
       "<div>\n",
       "<style scoped>\n",
       "    .dataframe tbody tr th:only-of-type {\n",
       "        vertical-align: middle;\n",
       "    }\n",
       "\n",
       "    .dataframe tbody tr th {\n",
       "        vertical-align: top;\n",
       "    }\n",
       "\n",
       "    .dataframe thead th {\n",
       "        text-align: right;\n",
       "    }\n",
       "</style>\n",
       "<table border=\"1\" class=\"dataframe\">\n",
       "  <thead>\n",
       "    <tr style=\"text-align: right;\">\n",
       "      <th></th>\n",
       "      <th>Fort</th>\n",
       "      <th>Churchgate</th>\n",
       "      <th>Khetwadi</th>\n",
       "    </tr>\n",
       "    <tr>\n",
       "      <th>City- Distance (km)</th>\n",
       "      <th></th>\n",
       "      <th></th>\n",
       "      <th></th>\n",
       "    </tr>\n",
       "  </thead>\n",
       "  <tbody>\n",
       "    <tr>\n",
       "      <th>Fort</th>\n",
       "      <td>0.0</td>\n",
       "      <td>2.7</td>\n",
       "      <td>3.7</td>\n",
       "    </tr>\n",
       "    <tr>\n",
       "      <th>Churchgate</th>\n",
       "      <td>2.7</td>\n",
       "      <td>0.0</td>\n",
       "      <td>4.5</td>\n",
       "    </tr>\n",
       "    <tr>\n",
       "      <th>Khetwadi</th>\n",
       "      <td>3.7</td>\n",
       "      <td>4.5</td>\n",
       "      <td>0.0</td>\n",
       "    </tr>\n",
       "  </tbody>\n",
       "</table>\n",
       "</div>"
      ],
      "text/plain": [
       "                     Fort  Churchgate  Khetwadi\n",
       "City- Distance (km)                            \n",
       "Fort                  0.0         2.7       3.7\n",
       "Churchgate            2.7         0.0       4.5\n",
       "Khetwadi              3.7         4.5       0.0"
      ]
     },
     "execution_count": 3,
     "metadata": {},
     "output_type": "execute_result"
    }
   ],
   "source": [
    "distance_data"
   ]
  },
  {
   "cell_type": "code",
   "execution_count": 4,
   "id": "5556273a",
   "metadata": {},
   "outputs": [
    {
     "data": {
      "text/plain": [
       "array([[0. , 2.7, 3.7],\n",
       "       [2.7, 0. , 4.5],\n",
       "       [3.7, 4.5, 0. ]])"
      ]
     },
     "execution_count": 4,
     "metadata": {},
     "output_type": "execute_result"
    }
   ],
   "source": [
    "np_arr_distance = distance_data.to_numpy()\n",
    "np_arr_distance\n"
   ]
  },
  {
   "cell_type": "code",
   "execution_count": 5,
   "id": "b55f4d37",
   "metadata": {},
   "outputs": [
    {
     "data": {
      "image/png": "[encoded data removed]",
      "text/plain": [
       "<Figure size 432x288 with 1 Axes>"
      ]
     },
     "metadata": {},
     "output_type": "display_data"
    }
   ],
   "source": [
    "#Visualizing the graph of the movement, with the distances embedded as weights in the edges\n",
    "\n",
    "graph = nx.Graph()\n",
    "#p = positions[s]\n",
    "for n in range(3):\n",
    "    for b in range(3):\n",
    "        graph.add_edges_from([[n, b]])\n",
    "        graph.add_edge(n,b,weight =distance_data.iat[n, b])\n",
    "\n",
    "#data_cell_1 = distance_data.iat[5, 2]\n",
    "#data_cell_1\n",
    "        \n",
    "nx.draw(graph, with_labels = True)"
   ]
  },
  {
   "cell_type": "code",
   "execution_count": 6,
   "id": "9c9d76f5",
   "metadata": {},
   "outputs": [
    {
     "name": "stdout",
     "output_type": "stream",
     "text": [
      "distance\n",
      " [[0.  2.7 3.7]\n",
      " [2.7 0.  4.5]\n",
      " [3.7 4.5 0. ]]\n"
     ]
    }
   ],
   "source": [
    "# retriving the matrix from the graph\n",
    "tsp_instance = Tsp(graph)\n",
    "adj_matrix = nx.to_numpy_matrix(tsp_instance.graph)\n",
    "print(\"distance\\n\", adj_matrix)"
   ]
  },
  {
   "cell_type": "code",
   "execution_count": 7,
   "id": "b6abd42a",
   "metadata": {},
   "outputs": [
    {
     "data": {
      "text/plain": [
       "{0: array([1.00000000e+00, 1.98682151e-08]),\n",
       " 1: array([-0.50000007,  0.86602542]),\n",
       " 2: array([-0.49999993, -0.86602544])}"
      ]
     },
     "execution_count": 7,
     "metadata": {},
     "output_type": "execute_result"
    }
   ],
   "source": [
    "pos = nx.circular_layout(graph)\n",
    "pos"
   ]
  },
  {
   "cell_type": "code",
   "execution_count": 8,
   "id": "b158f8a4",
   "metadata": {},
   "outputs": [
    {
     "name": "stdout",
     "output_type": "stream",
     "text": [
      "Problem name: TSP\n",
      "\n",
      "Minimize\n",
      "  2.7*x_0_0*x_1_1 + 2.7*x_0_0*x_1_2 + 3.7*x_0_0*x_2_1 + 3.7*x_0_0*x_2_2\n",
      "  + 2.7*x_0_1*x_1_0 + 2.7*x_0_1*x_1_2 + 3.7*x_0_1*x_2_0 + 3.7*x_0_1*x_2_2\n",
      "  + 2.7*x_0_2*x_1_0 + 2.7*x_0_2*x_1_1 + 3.7*x_0_2*x_2_0 + 3.7*x_0_2*x_2_1\n",
      "  + 4.5*x_1_0*x_2_1 + 4.5*x_1_0*x_2_2 + 4.5*x_1_1*x_2_0 + 4.5*x_1_1*x_2_2\n",
      "  + 4.5*x_1_2*x_2_0 + 4.5*x_1_2*x_2_1\n",
      "\n",
      "Subject to\n",
      "  Linear constraints (6)\n",
      "    x_0_0 + x_0_1 + x_0_2 == 1  'c0'\n",
      "    x_1_0 + x_1_1 + x_1_2 == 1  'c1'\n",
      "    x_2_0 + x_2_1 + x_2_2 == 1  'c2'\n",
      "    x_0_0 + x_1_0 + x_2_0 == 1  'c3'\n",
      "    x_0_1 + x_1_1 + x_2_1 == 1  'c4'\n",
      "    x_0_2 + x_1_2 + x_2_2 == 1  'c5'\n",
      "\n",
      "  Binary variables (9)\n",
      "    x_0_0 x_0_1 x_0_2 x_1_0 x_1_1 x_1_2 x_2_0 x_2_1 x_2_2\n",
      "\n"
     ]
    }
   ],
   "source": [
    "# Getting the quadratic program from the graph\n",
    "\n",
    "n = 3\n",
    "num_qubits = n**2\n",
    "qp = tsp_instance.to_quadratic_program()\n",
    "print(qp.prettyprint())"
   ]
  },
  {
   "cell_type": "code",
   "execution_count": 9,
   "id": "c6b1ec2d",
   "metadata": {},
   "outputs": [
    {
     "name": "stdout",
     "output_type": "stream",
     "text": [
      "Offset: 414.7500000000003\n",
      "Ising Hamiltonian:\n",
      "-69.6 * IIIIIIIIZ\n",
      "- 69.6 * IIIIIIIZI\n",
      "- 69.6 * IIIIIIZII\n",
      "- 70.0 * IIIIIZIII\n",
      "- 70.00000000000001 * IIIIZIIII\n",
      "- 70.00000000000003 * IIIZIIIII\n",
      "- 70.5 * IIZIIIIII\n",
      "- 70.50000000000001 * IZIIIIIII\n",
      "- 70.50000000000003 * ZIIIIIIII\n",
      "+ 33.2 * IIIIIIIZZ\n",
      "+ 33.2 * IIIIIIZIZ\n",
      "+ 33.2 * IIIIIIZZI\n",
      "+ 33.2 * IIIIIZIIZ\n",
      "+ 0.675 * IIIIIZIZI\n",
      "+ 0.675 * IIIIIZZII\n",
      "+ 0.675 * IIIIZIIIZ\n",
      "+ 33.2 * IIIIZIIZI\n",
      "+ 0.675 * IIIIZIZII\n",
      "+ 33.2 * IIIIZZIII\n",
      "+ 0.675 * IIIZIIIIZ\n",
      "+ 0.675 * IIIZIIIZI\n",
      "+ 33.2 * IIIZIIZII\n",
      "+ 33.2 * IIIZIZIII\n",
      "+ 33.2 * IIIZZIIII\n",
      "+ 33.2 * IIZIIIIIZ\n",
      "+ 0.925 * IIZIIIIZI\n",
      "+ 0.925 * IIZIIIZII\n",
      "+ 33.2 * IIZIIZIII\n",
      "+ 1.125 * IIZIZIIII\n",
      "+ 1.125 * IIZZIIIII\n",
      "+ 0.925 * IZIIIIIIZ\n",
      "+ 33.2 * IZIIIIIZI\n",
      "+ 0.925 * IZIIIIZII\n",
      "+ 1.125 * IZIIIZIII\n",
      "+ 33.2 * IZIIZIIII\n",
      "+ 1.125 * IZIZIIIII\n",
      "+ 33.2 * IZZIIIIII\n",
      "+ 0.925 * ZIIIIIIIZ\n",
      "+ 0.925 * ZIIIIIIZI\n",
      "+ 33.2 * ZIIIIIZII\n",
      "+ 1.125 * ZIIIIZIII\n",
      "+ 1.125 * ZIIIZIIII\n",
      "+ 33.2 * ZIIZIIIII\n",
      "+ 33.2 * ZIZIIIIII\n",
      "+ 33.2 * ZZIIIIIII\n"
     ]
    }
   ],
   "source": [
    "# Process of getting the Ising Hamiltonian from the quadratic program\n",
    "\n",
    "from qiskit_optimization.converters import QuadraticProgramToQubo\n",
    "qp2qubo = QuadraticProgramToQubo()\n",
    "qubo = qp2qubo.convert(qp)\n",
    "qubitOp, offset = qubo.to_ising()\n",
    "print(\"Offset:\", offset)\n",
    "print(\"Ising Hamiltonian:\")\n",
    "print(str(qubitOp))"
   ]
  },
  {
   "cell_type": "code",
   "execution_count": 10,
   "id": "cb1b1c8f",
   "metadata": {},
   "outputs": [
    {
     "name": "stdout",
     "output_type": "stream",
     "text": [
      "objective function value: 10.89999999999992\n",
      "variable values: x_0_0=0.0, x_0_1=1.0, x_0_2=0.0, x_1_0=0.0, x_1_1=0.0, x_1_2=1.0, x_2_0=1.0, x_2_1=0.0, x_2_2=0.0\n",
      "status: SUCCESS\n"
     ]
    }
   ],
   "source": [
    "#Solving the problem classically\n",
    "exact = MinimumEigenOptimizer(NumPyMinimumEigensolver())\n",
    "result = exact.solve(qubo)\n",
    "print(result.prettyprint())"
   ]
  },
  {
   "cell_type": "markdown",
   "id": "0ce520b6",
   "metadata": {},
   "source": [
    "### The solution path is 0 => 1 => 2 => 0"
   ]
  },
  {
   "cell_type": "code",
   "execution_count": 11,
   "id": "152b1b6c",
   "metadata": {},
   "outputs": [
    {
     "data": {
      "text/plain": [
       "<qiskit.algorithms.optimizers.spsa.SPSA at 0x270d765c820>"
      ]
     },
     "execution_count": 11,
     "metadata": {},
     "output_type": "execute_result"
    }
   ],
   "source": [
    "# Getting our Classical optimizers ready!\n",
    "spsa = SPSA(maxiter=300)\n",
    "optimizer = spsa\n",
    "optimizer"
   ]
  },
  {
   "cell_type": "code",
   "execution_count": 12,
   "id": "1a14d39a",
   "metadata": {},
   "outputs": [],
   "source": [
    "# Referrencing [1] I use this class\n",
    "\n",
    "def draw_tsp_solution(G, order,pos):\n",
    "    G2 = nx.DiGraph()\n",
    "    G2.add_nodes_from(G)\n",
    "    n = len(order)\n",
    "    for i in range(n):\n",
    "        j = (i + 1) % n\n",
    "        G2.add_edge(order[i], order[j], weight=G[order[i]][order[j]][\"weight\"])\n",
    "    default_axes = plt.axes(frameon=True)\n",
    "    nx.draw_networkx(\n",
    "        G2, edge_color=\"b\", node_size=600, alpha=0.8, ax=default_axes,pos = pos\n",
    "    )\n",
    "    edge_labels = nx.get_edge_attributes(G2, \"weight\")\n",
    "    nx.draw_networkx_edge_labels(G2, pos = pos, font_color=\"b\", edge_labels=edge_labels)\n"
   ]
  },
  {
   "cell_type": "markdown",
   "id": "0a554457",
   "metadata": {},
   "source": [
    "### Using QAOA for solving this quadratic program"
   ]
  },
  {
   "cell_type": "code",
   "execution_count": 13,
   "id": "11c80841",
   "metadata": {},
   "outputs": [
    {
     "name": "stdout",
     "output_type": "stream",
     "text": [
      "time: 169.08133387565613\n",
      "feasible: True\n",
      "solution: [[0, 1, 2], [0, 1, 2], [0, 1, 2]]\n",
      "solution objective: [[0. 0. 0.]]\n"
     ]
    }
   ],
   "source": [
    "algorithm_globals.random_seed = 123\n",
    "seed = 10598\n",
    "backend = Aer.get_backend(\"qasm_simulator\")\n",
    "quantum_instance = QuantumInstance(backend, seed_simulator=seed, seed_transpiler=seed)\n",
    "\n",
    "\n",
    "qaoa = QAOA(optimizer=spsa, quantum_instance=quantum_instance,reps = 5)\n",
    "\n",
    "result = qaoa.compute_minimum_eigenvalue(qubitOp)\n",
    "\n",
    "\n",
    "print(\"time:\", result.optimizer_time)\n",
    "x = tsp_instance.sample_most_likely(result.eigenstate)\n",
    "print(\"feasible:\", qubo.is_feasible(x))\n",
    "z = tsp_instance.interpret(x)\n",
    "print(\"solution:\", z)\n",
    "print(\"solution objective:\", tsp_instance.tsp_value(z, adj_matrix))\n"
   ]
  },
  {
   "cell_type": "markdown",
   "id": "864f018b",
   "metadata": {},
   "source": [
    "## QAOA for a 4 cities example"
   ]
  },
  {
   "cell_type": "code",
   "execution_count": 14,
   "id": "ddc8ef31",
   "metadata": {},
   "outputs": [],
   "source": [
    "# Importing the data with 4 cities\n",
    "distance_data = pd.read_csv('C:\\\\Users\\\\Abha N K\\\\Downloads\\\\Dataset self composed - Copy of distance 1.csv',index_col = \"City- Distance (km)\")"
   ]
  },
  {
   "cell_type": "code",
   "execution_count": 15,
   "id": "dfeee740",
   "metadata": {},
   "outputs": [
    {
     "data": {
      "text/html": [
       "<div>\n",
       "<style scoped>\n",
       "    .dataframe tbody tr th:only-of-type {\n",
       "        vertical-align: middle;\n",
       "    }\n",
       "\n",
       "    .dataframe tbody tr th {\n",
       "        vertical-align: top;\n",
       "    }\n",
       "\n",
       "    .dataframe thead th {\n",
       "        text-align: right;\n",
       "    }\n",
       "</style>\n",
       "<table border=\"1\" class=\"dataframe\">\n",
       "  <thead>\n",
       "    <tr style=\"text-align: right;\">\n",
       "      <th></th>\n",
       "      <th>Fort</th>\n",
       "      <th>Churchgate</th>\n",
       "      <th>Khetwadi</th>\n",
       "      <th>Malabar Hills</th>\n",
       "    </tr>\n",
       "    <tr>\n",
       "      <th>City- Distance (km)</th>\n",
       "      <th></th>\n",
       "      <th></th>\n",
       "      <th></th>\n",
       "      <th></th>\n",
       "    </tr>\n",
       "  </thead>\n",
       "  <tbody>\n",
       "    <tr>\n",
       "      <th>Fort</th>\n",
       "      <td>0.0</td>\n",
       "      <td>2.7</td>\n",
       "      <td>3.7</td>\n",
       "      <td>7.2</td>\n",
       "    </tr>\n",
       "    <tr>\n",
       "      <th>Churchgate</th>\n",
       "      <td>2.7</td>\n",
       "      <td>0.0</td>\n",
       "      <td>4.5</td>\n",
       "      <td>3.7</td>\n",
       "    </tr>\n",
       "    <tr>\n",
       "      <th>Khetwadi</th>\n",
       "      <td>3.7</td>\n",
       "      <td>4.5</td>\n",
       "      <td>0.0</td>\n",
       "      <td>3.5</td>\n",
       "    </tr>\n",
       "    <tr>\n",
       "      <th>Malabar Hills</th>\n",
       "      <td>7.2</td>\n",
       "      <td>3.7</td>\n",
       "      <td>3.5</td>\n",
       "      <td>0.0</td>\n",
       "    </tr>\n",
       "  </tbody>\n",
       "</table>\n",
       "</div>"
      ],
      "text/plain": [
       "                     Fort  Churchgate  Khetwadi  Malabar Hills\n",
       "City- Distance (km)                                           \n",
       "Fort                  0.0         2.7       3.7            7.2\n",
       "Churchgate            2.7         0.0       4.5            3.7\n",
       "Khetwadi              3.7         4.5       0.0            3.5\n",
       "Malabar Hills         7.2         3.7       3.5            0.0"
      ]
     },
     "execution_count": 15,
     "metadata": {},
     "output_type": "execute_result"
    }
   ],
   "source": [
    "distance_data"
   ]
  },
  {
   "cell_type": "code",
   "execution_count": 16,
   "id": "d550cfcf",
   "metadata": {},
   "outputs": [
    {
     "data": {
      "text/plain": [
       "array([[0. , 2.7, 3.7, 7.2],\n",
       "       [2.7, 0. , 4.5, 3.7],\n",
       "       [3.7, 4.5, 0. , 3.5],\n",
       "       [7.2, 3.7, 3.5, 0. ]])"
      ]
     },
     "execution_count": 16,
     "metadata": {},
     "output_type": "execute_result"
    }
   ],
   "source": [
    "np_arr_distance = distance_data.to_numpy()\n",
    "np_arr_distance"
   ]
  },
  {
   "cell_type": "code",
   "execution_count": 17,
   "id": "b4930791",
   "metadata": {},
   "outputs": [
    {
     "data": {
      "image/png": "[encoded data removed]",
      "text/plain": [
       "<Figure size 432x288 with 1 Axes>"
      ]
     },
     "metadata": {},
     "output_type": "display_data"
    }
   ],
   "source": [
    "graph = nx.Graph()\n",
    "\n",
    "for n in range(4):\n",
    "    for b in range(4):\n",
    "        graph.add_edges_from([[n, b]])\n",
    "        graph.add_edge(n,b,weight =distance_data.iat[n, b])\n",
    "\n",
    "\n",
    "        \n",
    "nx.draw(graph, with_labels = True)"
   ]
  },
  {
   "cell_type": "code",
   "execution_count": 18,
   "id": "93adfed9",
   "metadata": {},
   "outputs": [
    {
     "name": "stdout",
     "output_type": "stream",
     "text": [
      "distance\n",
      " [[0.  2.7 3.7 7.2]\n",
      " [2.7 0.  4.5 3.7]\n",
      " [3.7 4.5 0.  3.5]\n",
      " [7.2 3.7 3.5 0. ]]\n"
     ]
    }
   ],
   "source": [
    "tsp_instance = Tsp(graph)\n",
    "adj_matrix = nx.to_numpy_matrix(tsp_instance.graph)\n",
    "print(\"distance\\n\", adj_matrix)"
   ]
  },
  {
   "cell_type": "code",
   "execution_count": 19,
   "id": "8490d0e7",
   "metadata": {},
   "outputs": [
    {
     "data": {
      "text/plain": [
       "{0: array([9.99999986e-01, 2.18556937e-08]),\n",
       " 1: array([-3.57647606e-08,  1.00000000e+00]),\n",
       " 2: array([-9.9999997e-01, -6.5567081e-08]),\n",
       " 3: array([ 1.98715071e-08, -9.99999956e-01])}"
      ]
     },
     "execution_count": 19,
     "metadata": {},
     "output_type": "execute_result"
    }
   ],
   "source": [
    "pos = nx.circular_layout(graph)\n",
    "pos"
   ]
  },
  {
   "cell_type": "code",
   "execution_count": 20,
   "id": "13e2d734",
   "metadata": {},
   "outputs": [
    {
     "name": "stdout",
     "output_type": "stream",
     "text": [
      "Problem name: TSP\n",
      "\n",
      "Minimize\n",
      "  2.7*x_0_0*x_1_1 + 2.7*x_0_0*x_1_3 + 3.7*x_0_0*x_2_1 + 3.7*x_0_0*x_2_3\n",
      "  + 7.2*x_0_0*x_3_1 + 7.2*x_0_0*x_3_3 + 2.7*x_0_1*x_1_0 + 2.7*x_0_1*x_1_2\n",
      "  + 3.7*x_0_1*x_2_0 + 3.7*x_0_1*x_2_2 + 7.2*x_0_1*x_3_0 + 7.2*x_0_1*x_3_2\n",
      "  + 2.7*x_0_2*x_1_1 + 2.7*x_0_2*x_1_3 + 3.7*x_0_2*x_2_1 + 3.7*x_0_2*x_2_3\n",
      "  + 7.2*x_0_2*x_3_1 + 7.2*x_0_2*x_3_3 + 2.7*x_0_3*x_1_0 + 2.7*x_0_3*x_1_2\n",
      "  + 3.7*x_0_3*x_2_0 + 3.7*x_0_3*x_2_2 + 7.2*x_0_3*x_3_0 + 7.2*x_0_3*x_3_2\n",
      "  + 4.5*x_1_0*x_2_1 + 4.5*x_1_0*x_2_3 + 3.7*x_1_0*x_3_1 + 3.7*x_1_0*x_3_3\n",
      "  + 4.5*x_1_1*x_2_0 + 4.5*x_1_1*x_2_2 + 3.7*x_1_1*x_3_0 + 3.7*x_1_1*x_3_2\n",
      "  + 4.5*x_1_2*x_2_1 + 4.5*x_1_2*x_2_3 + 3.7*x_1_2*x_3_1 + 3.7*x_1_2*x_3_3\n",
      "  + 4.5*x_1_3*x_2_0 + 4.5*x_1_3*x_2_2 + 3.7*x_1_3*x_3_0 + 3.7*x_1_3*x_3_2\n",
      "  + 3.5*x_2_0*x_3_1 + 3.5*x_2_0*x_3_3 + 3.5*x_2_1*x_3_0 + 3.5*x_2_1*x_3_2\n",
      "  + 3.5*x_2_2*x_3_1 + 3.5*x_2_2*x_3_3 + 3.5*x_2_3*x_3_0 + 3.5*x_2_3*x_3_2\n",
      "\n",
      "Subject to\n",
      "  Linear constraints (8)\n",
      "    x_0_0 + x_0_1 + x_0_2 + x_0_3 == 1  'c0'\n",
      "    x_1_0 + x_1_1 + x_1_2 + x_1_3 == 1  'c1'\n",
      "    x_2_0 + x_2_1 + x_2_2 + x_2_3 == 1  'c2'\n",
      "    x_3_0 + x_3_1 + x_3_2 + x_3_3 == 1  'c3'\n",
      "    x_0_0 + x_1_0 + x_2_0 + x_3_0 == 1  'c4'\n",
      "    x_0_1 + x_1_1 + x_2_1 + x_3_1 == 1  'c5'\n",
      "    x_0_2 + x_1_2 + x_2_2 + x_3_2 == 1  'c6'\n",
      "    x_0_3 + x_1_3 + x_2_3 + x_3_3 == 1  'c7'\n",
      "\n",
      "  Binary variables (16)\n",
      "    x_0_0 x_0_1 x_0_2 x_0_3 x_1_0 x_1_1 x_1_2 x_1_3 x_2_0 x_2_1 x_2_2 x_2_3\n",
      "    x_3_0 x_3_1 x_3_2 x_3_3\n",
      "\n"
     ]
    }
   ],
   "source": [
    "# Converting the graph into the quadratic program\n",
    "n = 4\n",
    "num_qubits = n**2\n",
    "qp = tsp_instance.to_quadratic_program()\n",
    "print(qp.prettyprint())"
   ]
  },
  {
   "cell_type": "code",
   "execution_count": 21,
   "id": "aee71a57",
   "metadata": {},
   "outputs": [
    {
     "name": "stdout",
     "output_type": "stream",
     "text": [
      "Offset: 3304.9999999999955\n",
      "Ising Hamiltonian:\n",
      "-413.5999999999999 * IIIIIIIIIIIIIIIZ\n",
      "- 413.59999999999985 * IIIIIIIIIIIIIIZI\n",
      "- 413.59999999999985 * IIIIIIIIIIIIIZII\n",
      "- 413.5999999999998 * IIIIIIIIIIIIZIII\n",
      "- 412.2499999999999 * IIIIIIIIIIIZIIII\n",
      "- 412.24999999999994 * IIIIIIIIIIZIIIII\n",
      "- 412.24999999999994 * IIIIIIIIIZIIIIII\n",
      "- 412.2499999999999 * IIIIIIIIZIIIIIII\n",
      "- 412.64999999999986 * IIIIIIIZIIIIIIII\n",
      "- 412.64999999999986 * IIIIIIZIIIIIIIII\n",
      "- 412.64999999999986 * IIIIIZIIIIIIIIII\n",
      "- 412.64999999999986 * IIIIZIIIIIIIIIII\n",
      "- 413.9999999999999 * IIIZIIIIIIIIIIII\n",
      "- 413.9999999999999 * IIZIIIIIIIIIIIII\n",
      "- 413.9999999999999 * IZIIIIIIIIIIIIII\n",
      "- 413.9999999999999 * ZIIIIIIIIIIIIIII\n",
      "+ 101.69999999999996 * IIIIIIIIIIIIIIZZ\n",
      "+ 101.69999999999996 * IIIIIIIIIIIIIZIZ\n",
      "+ 101.69999999999996 * IIIIIIIIIIIIIZZI\n",
      "+ 101.69999999999996 * IIIIIIIIIIIIZIIZ\n",
      "+ 101.69999999999996 * IIIIIIIIIIIIZIZI\n",
      "+ 101.69999999999996 * IIIIIIIIIIIIZZII\n",
      "+ 101.69999999999996 * IIIIIIIIIIIZIIIZ\n",
      "+ 0.675 * IIIIIIIIIIIZIIZI\n",
      "+ 0.675 * IIIIIIIIIIIZZIII\n",
      "+ 0.675 * IIIIIIIIIIZIIIIZ\n",
      "+ 101.69999999999996 * IIIIIIIIIIZIIIZI\n",
      "+ 0.675 * IIIIIIIIIIZIIZII\n",
      "+ 101.69999999999996 * IIIIIIIIIIZZIIII\n",
      "+ 0.675 * IIIIIIIIIZIIIIZI\n",
      "+ 101.69999999999996 * IIIIIIIIIZIIIZII\n",
      "+ 0.675 * IIIIIIIIIZIIZIII\n",
      "+ 101.69999999999996 * IIIIIIIIIZIZIIII\n",
      "+ 101.69999999999996 * IIIIIIIIIZZIIIII\n",
      "+ 0.675 * IIIIIIIIZIIIIIIZ\n",
      "+ 0.675 * IIIIIIIIZIIIIZII\n",
      "+ 101.69999999999996 * IIIIIIIIZIIIZIII\n",
      "+ 101.69999999999996 * IIIIIIIIZIIZIIII\n",
      "+ 101.69999999999996 * IIIIIIIIZIZIIIII\n",
      "+ 101.69999999999996 * IIIIIIIIZZIIIIII\n",
      "+ 101.69999999999996 * IIIIIIIZIIIIIIIZ\n",
      "+ 0.925 * IIIIIIIZIIIIIIZI\n",
      "+ 0.925 * IIIIIIIZIIIIZIII\n",
      "+ 101.69999999999996 * IIIIIIIZIIIZIIII\n",
      "+ 1.125 * IIIIIIIZIIZIIIII\n",
      "+ 1.125 * IIIIIIIZZIIIIIII\n",
      "+ 0.925 * IIIIIIZIIIIIIIIZ\n",
      "+ 101.69999999999996 * IIIIIIZIIIIIIIZI\n",
      "+ 0.925 * IIIIIIZIIIIIIZII\n",
      "+ 1.125 * IIIIIIZIIIIZIIII\n",
      "+ 101.69999999999996 * IIIIIIZIIIZIIIII\n",
      "+ 1.125 * IIIIIIZIIZIIIIII\n",
      "+ 101.69999999999996 * IIIIIIZZIIIIIIII\n",
      "+ 0.925 * IIIIIZIIIIIIIIZI\n",
      "+ 101.69999999999996 * IIIIIZIIIIIIIZII\n",
      "+ 0.925 * IIIIIZIIIIIIZIII\n",
      "+ 1.125 * IIIIIZIIIIZIIIII\n",
      "+ 101.69999999999996 * IIIIIZIIIZIIIIII\n",
      "+ 1.125 * IIIIIZIIZIIIIIII\n",
      "+ 101.69999999999996 * IIIIIZIZIIIIIIII\n",
      "+ 101.69999999999996 * IIIIIZZIIIIIIIII\n",
      "+ 0.925 * IIIIZIIIIIIIIIIZ\n",
      "+ 0.925 * IIIIZIIIIIIIIZII\n",
      "+ 101.69999999999996 * IIIIZIIIIIIIZIII\n",
      "+ 1.125 * IIIIZIIIIIIZIIII\n",
      "+ 1.125 * IIIIZIIIIZIIIIII\n",
      "+ 101.69999999999996 * IIIIZIIIZIIIIIII\n",
      "+ 101.69999999999996 * IIIIZIIZIIIIIIII\n",
      "+ 101.69999999999996 * IIIIZIZIIIIIIIII\n",
      "+ 101.69999999999996 * IIIIZZIIIIIIIIII\n",
      "+ 101.69999999999996 * IIIZIIIIIIIIIIIZ\n",
      "+ 1.8 * IIIZIIIIIIIIIIZI\n",
      "+ 1.8 * IIIZIIIIIIIIZIII\n",
      "+ 101.69999999999996 * IIIZIIIIIIIZIIII\n",
      "+ 0.925 * IIIZIIIIIIZIIIII\n",
      "+ 0.925 * IIIZIIIIZIIIIIII\n",
      "+ 101.69999999999996 * IIIZIIIZIIIIIIII\n",
      "+ 0.875 * IIIZIIZIIIIIIIII\n",
      "+ 0.875 * IIIZZIIIIIIIIIII\n",
      "+ 1.8 * IIZIIIIIIIIIIIIZ\n",
      "+ 101.69999999999996 * IIZIIIIIIIIIIIZI\n",
      "+ 1.8 * IIZIIIIIIIIIIZII\n",
      "+ 0.925 * IIZIIIIIIIIZIIII\n",
      "+ 101.69999999999996 * IIZIIIIIIIZIIIII\n",
      "+ 0.925 * IIZIIIIIIZIIIIII\n",
      "+ 0.875 * IIZIIIIZIIIIIIII\n",
      "+ 101.69999999999996 * IIZIIIZIIIIIIIII\n",
      "+ 0.875 * IIZIIZIIIIIIIIII\n",
      "+ 101.69999999999996 * IIZZIIIIIIIIIIII\n",
      "+ 1.8 * IZIIIIIIIIIIIIZI\n",
      "+ 101.69999999999996 * IZIIIIIIIIIIIZII\n",
      "+ 1.8 * IZIIIIIIIIIIZIII\n",
      "+ 0.925 * IZIIIIIIIIZIIIII\n",
      "+ 101.69999999999996 * IZIIIIIIIZIIIIII\n",
      "+ 0.925 * IZIIIIIIZIIIIIII\n",
      "+ 0.875 * IZIIIIZIIIIIIIII\n",
      "+ 101.69999999999996 * IZIIIZIIIIIIIIII\n",
      "+ 0.875 * IZIIZIIIIIIIIIII\n",
      "+ 101.69999999999996 * IZIZIIIIIIIIIIII\n",
      "+ 101.69999999999996 * IZZIIIIIIIIIIIII\n",
      "+ 1.8 * ZIIIIIIIIIIIIIIZ\n",
      "+ 1.8 * ZIIIIIIIIIIIIZII\n",
      "+ 101.69999999999996 * ZIIIIIIIIIIIZIII\n",
      "+ 0.925 * ZIIIIIIIIIIZIIII\n",
      "+ 0.925 * ZIIIIIIIIZIIIIII\n",
      "+ 101.69999999999996 * ZIIIIIIIZIIIIIII\n",
      "+ 0.875 * ZIIIIIIZIIIIIIII\n",
      "+ 0.875 * ZIIIIZIIIIIIIIII\n",
      "+ 101.69999999999996 * ZIIIZIIIIIIIIIII\n",
      "+ 101.69999999999996 * ZIIZIIIIIIIIIIII\n",
      "+ 101.69999999999996 * ZIZIIIIIIIIIIIII\n",
      "+ 101.69999999999996 * ZZIIIIIIIIIIIIII\n"
     ]
    }
   ],
   "source": [
    "from qiskit_optimization.converters import QuadraticProgramToQubo\n",
    "qp2qubo = QuadraticProgramToQubo()\n",
    "qubo = qp2qubo.convert(qp)\n",
    "qubitOp, offset = qubo.to_ising()\n",
    "print(\"Offset:\", offset)\n",
    "print(\"Ising Hamiltonian:\")\n",
    "print(str(qubitOp))"
   ]
  },
  {
   "cell_type": "code",
   "execution_count": 22,
   "id": "4d69d694",
   "metadata": {},
   "outputs": [
    {
     "name": "stdout",
     "output_type": "stream",
     "text": [
      "objective function value: 13.599999999999682\n",
      "variable values: x_0_0=1.0, x_0_1=0.0, x_0_2=0.0, x_0_3=0.0, x_1_0=0.0, x_1_1=0.0, x_1_2=0.0, x_1_3=1.0, x_2_0=0.0, x_2_1=1.0, x_2_2=0.0, x_2_3=0.0, x_3_0=0.0, x_3_1=0.0, x_3_2=1.0, x_3_3=0.0\n",
      "status: SUCCESS\n"
     ]
    }
   ],
   "source": [
    "exact = MinimumEigenOptimizer(NumPyMinimumEigensolver())\n",
    "result = exact.solve(qubo)\n",
    "print(result.prettyprint())"
   ]
  },
  {
   "cell_type": "code",
   "execution_count": 23,
   "id": "c5e6ec5e",
   "metadata": {},
   "outputs": [
    {
     "name": "stdout",
     "output_type": "stream",
     "text": [
      "time: 1256.904938697815\n",
      "feasible: True\n",
      "solution: [[1, 2, 3], [2, 3], [1, 2, 3], [0, 2, 3]]\n"
     ]
    },
    {
     "ename": "IndexError",
     "evalue": "shape mismatch: indexing arrays could not be broadcast together with shapes (3,) (2,) ",
     "output_type": "error",
     "traceback": [
      "\u001b[1;31m---------------------------------------------------------------------------\u001b[0m",
      "\u001b[1;31mIndexError\u001b[0m                                Traceback (most recent call last)",
      "Input \u001b[1;32mIn [23]\u001b[0m, in \u001b[0;36m<cell line: 17>\u001b[1;34m()\u001b[0m\n\u001b[0;32m     15\u001b[0m z \u001b[38;5;241m=\u001b[39m tsp_instance\u001b[38;5;241m.\u001b[39minterpret(x)\n\u001b[0;32m     16\u001b[0m \u001b[38;5;28mprint\u001b[39m(\u001b[38;5;124m\"\u001b[39m\u001b[38;5;124msolution:\u001b[39m\u001b[38;5;124m\"\u001b[39m, z)\n\u001b[1;32m---> 17\u001b[0m \u001b[38;5;28mprint\u001b[39m(\u001b[38;5;124m\"\u001b[39m\u001b[38;5;124msolution objective:\u001b[39m\u001b[38;5;124m\"\u001b[39m, \u001b[43mtsp_instance\u001b[49m\u001b[38;5;241;43m.\u001b[39;49m\u001b[43mtsp_value\u001b[49m\u001b[43m(\u001b[49m\u001b[43mz\u001b[49m\u001b[43m,\u001b[49m\u001b[43m \u001b[49m\u001b[43madj_matrix\u001b[49m\u001b[43m)\u001b[49m)\n",
      "File \u001b[1;32m~\\anaconda3\\lib\\site-packages\\qiskit_optimization\\applications\\tsp.py:211\u001b[0m, in \u001b[0;36mTsp.tsp_value\u001b[1;34m(z, adj_matrix)\u001b[0m\n\u001b[0;32m    209\u001b[0m ret \u001b[38;5;241m=\u001b[39m \u001b[38;5;241m0.0\u001b[39m\n\u001b[0;32m    210\u001b[0m \u001b[38;5;28;01mfor\u001b[39;00m i \u001b[38;5;129;01min\u001b[39;00m \u001b[38;5;28mrange\u001b[39m(\u001b[38;5;28mlen\u001b[39m(z) \u001b[38;5;241m-\u001b[39m \u001b[38;5;241m1\u001b[39m):\n\u001b[1;32m--> 211\u001b[0m     ret \u001b[38;5;241m+\u001b[39m\u001b[38;5;241m=\u001b[39m \u001b[43madj_matrix\u001b[49m\u001b[43m[\u001b[49m\u001b[43mz\u001b[49m\u001b[43m[\u001b[49m\u001b[43mi\u001b[49m\u001b[43m]\u001b[49m\u001b[43m,\u001b[49m\u001b[43m \u001b[49m\u001b[43mz\u001b[49m\u001b[43m[\u001b[49m\u001b[43mi\u001b[49m\u001b[43m \u001b[49m\u001b[38;5;241;43m+\u001b[39;49m\u001b[43m \u001b[49m\u001b[38;5;241;43m1\u001b[39;49m\u001b[43m]\u001b[49m\u001b[43m]\u001b[49m\n\u001b[0;32m    212\u001b[0m ret \u001b[38;5;241m+\u001b[39m\u001b[38;5;241m=\u001b[39m adj_matrix[z[\u001b[38;5;241m-\u001b[39m\u001b[38;5;241m1\u001b[39m], z[\u001b[38;5;241m0\u001b[39m]]\n\u001b[0;32m    213\u001b[0m \u001b[38;5;28;01mreturn\u001b[39;00m ret\n",
      "File \u001b[1;32m~\\anaconda3\\lib\\site-packages\\numpy\\matrixlib\\defmatrix.py:193\u001b[0m, in \u001b[0;36mmatrix.__getitem__\u001b[1;34m(self, index)\u001b[0m\n\u001b[0;32m    190\u001b[0m \u001b[38;5;28mself\u001b[39m\u001b[38;5;241m.\u001b[39m_getitem \u001b[38;5;241m=\u001b[39m \u001b[38;5;28;01mTrue\u001b[39;00m\n\u001b[0;32m    192\u001b[0m \u001b[38;5;28;01mtry\u001b[39;00m:\n\u001b[1;32m--> 193\u001b[0m     out \u001b[38;5;241m=\u001b[39m \u001b[43mN\u001b[49m\u001b[38;5;241;43m.\u001b[39;49m\u001b[43mndarray\u001b[49m\u001b[38;5;241;43m.\u001b[39;49m\u001b[38;5;21;43m__getitem__\u001b[39;49m\u001b[43m(\u001b[49m\u001b[38;5;28;43mself\u001b[39;49m\u001b[43m,\u001b[49m\u001b[43m \u001b[49m\u001b[43mindex\u001b[49m\u001b[43m)\u001b[49m\n\u001b[0;32m    194\u001b[0m \u001b[38;5;28;01mfinally\u001b[39;00m:\n\u001b[0;32m    195\u001b[0m     \u001b[38;5;28mself\u001b[39m\u001b[38;5;241m.\u001b[39m_getitem \u001b[38;5;241m=\u001b[39m \u001b[38;5;28;01mFalse\u001b[39;00m\n",
      "\u001b[1;31mIndexError\u001b[0m: shape mismatch: indexing arrays could not be broadcast together with shapes (3,) (2,) "
     ]
    }
   ],
   "source": [
    "algorithm_globals.random_seed = 123\n",
    "seed = 10598\n",
    "backend = Aer.get_backend(\"qasm_simulator\")\n",
    "quantum_instance = QuantumInstance(backend, seed_simulator=seed, seed_transpiler=seed)\n",
    "\n",
    "\n",
    "qaoa = QAOA(optimizer=spsa, quantum_instance=quantum_instance,reps = 5)\n",
    "\n",
    "result = qaoa.compute_minimum_eigenvalue(qubitOp)\n",
    "\n",
    "\n",
    "print(\"time:\", result.optimizer_time)\n",
    "x = tsp_instance.sample_most_likely(result.eigenstate)\n",
    "print(\"feasible:\", qubo.is_feasible(x))\n",
    "z = tsp_instance.interpret(x)\n",
    "print(\"solution:\", z)\n",
    "print(\"solution objective:\", tsp_instance.tsp_value(z, adj_matrix))"
   ]
  },
  {
   "cell_type": "code",
   "execution_count": null,
   "id": "88cd616f",
   "metadata": {},
   "outputs": [],
   "source": []
  }
 ],
 "metadata": {
  "kernelspec": {
   "display_name": "Python 3 (ipykernel)",
   "language": "python",
   "name": "python3"
  },
  "language_info": {
   "codemirror_mode": {
    "name": "ipython",
    "version": 3
   },
   "file_extension": ".py",
   "mimetype": "text/x-python",
   "name": "python",
   "nbconvert_exporter": "python",
   "pygments_lexer": "ipython3",
   "version": "3.10.6"
  }
 },
 "nbformat": 4,
 "nbformat_minor": 5
}
