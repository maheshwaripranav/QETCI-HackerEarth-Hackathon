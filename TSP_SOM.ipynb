{
 "cells": [
  {
   "cell_type": "code",
   "execution_count": 16,
   "metadata": {},
   "outputs": [],
   "source": [
    "import numpy as np\n",
    "import pandas as pd"
   ]
  },
  {
   "cell_type": "code",
   "execution_count": null,
   "metadata": {},
   "outputs": [],
   "source": [
    "with open('distances_mumbai.csv') as f:\n",
    "    f.readlines()"
   ]
  },
  {
   "cell_type": "code",
   "execution_count": 141,
   "metadata": {},
   "outputs": [
    {
     "data": {
      "text/html": [
       "<div>\n",
       "<style scoped>\n",
       "    .dataframe tbody tr th:only-of-type {\n",
       "        vertical-align: middle;\n",
       "    }\n",
       "\n",
       "    .dataframe tbody tr th {\n",
       "        vertical-align: top;\n",
       "    }\n",
       "\n",
       "    .dataframe thead th {\n",
       "        text-align: right;\n",
       "    }\n",
       "</style>\n",
       "<table border=\"1\" class=\"dataframe\">\n",
       "  <thead>\n",
       "    <tr style=\"text-align: right;\">\n",
       "      <th></th>\n",
       "      <th>Longitude</th>\n",
       "      <th>Latitude</th>\n",
       "    </tr>\n",
       "  </thead>\n",
       "  <tbody>\n",
       "    <tr>\n",
       "      <th>0</th>\n",
       "      <td>72.838945</td>\n",
       "      <td>18.935783</td>\n",
       "    </tr>\n",
       "    <tr>\n",
       "      <th>1</th>\n",
       "      <td>72.823287</td>\n",
       "      <td>18.932132</td>\n",
       "    </tr>\n",
       "    <tr>\n",
       "      <th>2</th>\n",
       "      <td>72.831722</td>\n",
       "      <td>18.958083</td>\n",
       "    </tr>\n",
       "    <tr>\n",
       "      <th>3</th>\n",
       "      <td>72.804173</td>\n",
       "      <td>18.964716</td>\n",
       "    </tr>\n",
       "    <tr>\n",
       "      <th>4</th>\n",
       "      <td>72.836387</td>\n",
       "      <td>18.997817</td>\n",
       "    </tr>\n",
       "    <tr>\n",
       "      <th>5</th>\n",
       "      <td>72.847510</td>\n",
       "      <td>19.017791</td>\n",
       "    </tr>\n",
       "    <tr>\n",
       "      <th>6</th>\n",
       "      <td>72.863948</td>\n",
       "      <td>19.015427</td>\n",
       "    </tr>\n",
       "  </tbody>\n",
       "</table>\n",
       "</div>"
      ],
      "text/plain": [
       "   Longitude   Latitude\n",
       "0  72.838945  18.935783\n",
       "1  72.823287  18.932132\n",
       "2  72.831722  18.958083\n",
       "3  72.804173  18.964716\n",
       "4  72.836387  18.997817\n",
       "5  72.847510  19.017791\n",
       "6  72.863948  19.015427"
      ]
     },
     "execution_count": 141,
     "metadata": {},
     "output_type": "execute_result"
    }
   ],
   "source": [
    "#def som():\n",
    "f = open('assets/locations_mumbai.csv')\n",
    "cities = pd.read_csv(f)\n",
    "city = cities[['Longitude', 'Latitude']]\n",
    "city"
   ]
  },
  {
   "cell_type": "code",
   "execution_count": 142,
   "metadata": {},
   "outputs": [
    {
     "name": "stdout",
     "output_type": "stream",
     "text": [
      "[[0.64769123 0.99691358]\n",
      " [0.51880326 0.65811273]\n",
      " [0.59906347 0.75306733]\n",
      " [0.13624713 0.00411712]\n",
      " [0.14950888 0.698439  ]\n",
      " [0.59335256 0.89991535]\n",
      " [0.44445739 0.316785  ]]\n",
      "0\n",
      "[1.         0.60653066 0.13533528 0.011109   0.011109   0.13533528\n",
      " 0.60653066]\n",
      "   Longitude   Latitude\n",
      "0  72.838945  18.935783\n",
      "1  44.373689  11.741866\n",
      "2  10.374691   3.216848\n",
      "3   0.943515   0.214750\n",
      "4   0.956987   0.901727\n",
      "5  10.371889   3.351903\n",
      "6  44.369099  11.658085\n",
      "0\n",
      "[1.         0.60653066 0.13533528 0.011109   0.011109   0.13533528\n",
      " 0.60653066]\n",
      "   Longitude   Latitude\n",
      "0  72.838945  18.935783\n",
      "1  61.628725  16.102852\n",
      "2  18.827077   5.347129\n",
      "3   1.741791   0.423037\n",
      "4   1.755471   1.102750\n",
      "5  18.826792   5.471987\n",
      "6  61.651580  16.120404\n",
      "0\n",
      "[1.         0.60653066 0.13533528 0.011109   0.011109   0.13533528\n",
      " 0.60653066]\n",
      "   Longitude   Latitude\n",
      "0  72.838945  18.935783\n",
      "1  68.418163  17.818794\n",
      "2  26.135373   7.189061\n",
      "3   2.531175   0.629004\n",
      "4   2.545061   1.301534\n",
      "5  26.137262   7.305102\n",
      "6  68.451817  17.876219\n"
     ]
    },
    {
     "name": "stderr",
     "output_type": "stream",
     "text": [
      "C:\\Users\\PranavMaheshwari\\AppData\\Local\\Temp\\ipykernel_14180\\2094445227.py:3: SettingWithCopyWarning: \n",
      "A value is trying to be set on a copy of a slice from a DataFrame.\n",
      "Try using .loc[row_indexer,col_indexer] = value instead\n",
      "\n",
      "See the caveats in the documentation: https://pandas.pydata.org/pandas-docs/stable/user_guide/indexing.html#returning-a-view-versus-a-copy\n",
      "  cities['winner'] = cities.apply(\n"
     ]
    },
    {
     "data": {
      "text/plain": [
       "Int64Index([0, 1, 2, 3, 4, 5, 6], dtype='int64')"
      ]
     },
     "execution_count": 142,
     "metadata": {},
     "output_type": "execute_result"
    }
   ],
   "source": [
    "n = 7\n",
    "eta = 1\n",
    "radii = 1.5\n",
    "iterations = 3\n",
    "\n",
    "np.random.seed(1024)\n",
    "network = np.random.rand(n,2)\n",
    "print(network)\n",
    "for i in range(iterations):\n",
    "    winner  = euclidean_distance(network, city.sample(1).values).argmin()\n",
    "    print(winner)\n",
    "    gaussian= get_neighborhood(winner, int(radii), n)\n",
    "    print(gaussian)\n",
    "    network+= gaussian[:, np.newaxis]*eta*(city - network)\n",
    "    print(network)\n",
    "    eta = eta*0.99997\n",
    "    radii = radii*0.9997\n",
    "\n",
    "winner\n",
    "route = get_route(city, network)\n",
    "# city['winner'] = city.apply(lambda c: select_closest(network, c), axis=1, raw=True\n",
    "\n",
    "# city.sort_values('winner').index\n",
    "# city\n",
    "route"
   ]
  },
  {
   "cell_type": "code",
   "execution_count": 70,
   "metadata": {},
   "outputs": [
    {
     "data": {
      "text/plain": [
       "array([0.60653066, 1.        , 0.60653066, 0.13533528, 0.13533528])"
      ]
     },
     "execution_count": 70,
     "metadata": {},
     "output_type": "execute_result"
    }
   ],
   "source": [
    "network = np.random.rand(5, 2)\n",
    "gaussian= get_neighborhood(1, 1, 5)\n",
    "gaussian"
   ]
  },
  {
   "cell_type": "code",
   "execution_count": 48,
   "metadata": {},
   "outputs": [],
   "source": [
    "n = generate_network(5)"
   ]
  },
  {
   "cell_type": "code",
   "execution_count": 64,
   "metadata": {},
   "outputs": [],
   "source": [
    "def get_neighborhood(center, radix, domain):\n",
    "\n",
    "    # Impose an upper bound on the radix to prevent NaN and blocks\n",
    "    if radix < 1:\n",
    "        radix = 1\n",
    "\n",
    "    # Compute the circular network distance to the center\n",
    "    deltas = np.absolute(center - np.arange(domain))\n",
    "    distances = np.minimum(deltas, domain - deltas)\n",
    "\n",
    "    # Compute Gaussian distribution around the given center\n",
    "    return np.exp(-(distances*distances) / (2*(radix*radix)))"
   ]
  },
  {
   "cell_type": "code",
   "execution_count": 133,
   "metadata": {},
   "outputs": [],
   "source": [
    "def get_route(cities, network):\n",
    "    \"\"\"Return the route computed by a network.\"\"\"\n",
    "    cities['winner'] = cities.apply(\n",
    "        lambda c: select_closest(network, c),\n",
    "        axis=1, raw=True)\n",
    "\n",
    "    return cities.sort_values('winner').index"
   ]
  },
  {
   "cell_type": "code",
   "execution_count": null,
   "metadata": {},
   "outputs": [],
   "source": [
    "def normalize(points):\n",
    "    \"\"\"\n",
    "    Return the normalized version of a given vector of points.\n",
    "\n",
    "    For a given array of n-dimensions, normalize each dimension by removing the\n",
    "    initial offset and normalizing the points in a proportional interval: [0,1]\n",
    "    on y, maintining the original ratio on x.\n",
    "    \"\"\"\n",
    "    ratio = (points.x.max() - points.x.min()) / (points.y.max() - points.y.min()), 1\n",
    "    ratio = np.array(ratio) / max(ratio)\n",
    "    norm = points.apply(lambda c: (c - c.min()) / (c.max() - c.min()))\n",
    "    return norm.apply(lambda p: ratio * p, axis=1)\n"
   ]
  },
  {
   "cell_type": "code",
   "execution_count": 81,
   "metadata": {},
   "outputs": [],
   "source": [
    "def euclidean_distance(a, b):\n",
    "    \"\"\"Return the array of distances of two numpy arrays of points.\"\"\"\n",
    "    return np.linalg.norm(a - b, axis=1)\n",
    "\n",
    "def route_distance(cities):\n",
    "    \"\"\"Return the cost of traversing a route of cities in a certain order.\"\"\"\n",
    "    points = cities[['x', 'y']]\n",
    "    distances = euclidean_distance(points, np.roll(points, 1, axis=0))\n",
    "    return np.sum(distances)\n"
   ]
  }
 ],
 "metadata": {
  "kernelspec": {
   "display_name": "Python 3 (ipykernel)",
   "language": "python",
   "name": "python3"
  },
  "language_info": {
   "codemirror_mode": {
    "name": "ipython",
    "version": 3
   },
   "file_extension": ".py",
   "mimetype": "text/x-python",
   "name": "python",
   "nbconvert_exporter": "python",
   "pygments_lexer": "ipython3",
   "version": "3.10.6"
  },
  "vscode": {
   "interpreter": {
    "hash": "da86e0521eaa888c31d8463847791b19d5bdeb3dec9781ca08a465cd32afc3bc"
   }
  }
 },
 "nbformat": 4,
 "nbformat_minor": 4
}
