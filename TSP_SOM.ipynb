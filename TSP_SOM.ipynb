{
 "cells": [
  {
   "cell_type": "markdown",
   "metadata": {},
   "source": [
    "# Solving Travelling Salesman Problem by Self Organizing Maps"
   ]
  },
  {
   "cell_type": "code",
   "execution_count": 1,
   "metadata": {
    "tags": []
   },
   "outputs": [],
   "source": [
    "import numpy as np\n",
    "import pandas as pd\n",
    "import matplotlib.pyplot as plt\n",
    "import matplotlib as mpl"
   ]
  },
  {
   "cell_type": "markdown",
   "metadata": {},
   "source": [
    "## Essential Definitons"
   ]
  },
  {
   "cell_type": "markdown",
   "metadata": {},
   "source": [
    "Using self organizing maps, we can train a neural network to identify the least distances among any set of points. \n",
    "We use it in the travelling salesman problem to find the least distance route to cover all cities.\n",
    "\n",
    "The resources used in same are:\n",
    "\n",
    "https://github.com/diego-vicente/som-tsp](https://github.com/diego-vicente/som-tsp)\n"
   ]
  },
  {
   "cell_type": "code",
   "execution_count": 2,
   "metadata": {},
   "outputs": [],
   "source": [
    "def euclidean_distance(a, b):\n",
    "    \"\"\"Return the array of distances of two numpy arrays of points.\"\"\"\n",
    "    return np.linalg.norm(a - b, axis=1)"
   ]
  },
  {
   "cell_type": "code",
   "execution_count": 3,
   "metadata": {},
   "outputs": [],
   "source": [
    "def get_neighborhood(center, radix, domain):\n",
    "\n",
    "    # Impose an upper bound on the radix to prevent NaN and blocks\n",
    "    if radix < 1:\n",
    "        radix = 1\n",
    "\n",
    "    # Compute the circular network distance to the center\n",
    "    deltas = np.absolute(center - np.arange(domain))\n",
    "    distances = np.minimum(deltas, domain - deltas)\n",
    "\n",
    "    # Compute Gaussian distribution around the given center\n",
    "    return np.exp(-(distances*distances) / (2*(radix*radix)))"
   ]
  },
  {
   "cell_type": "code",
   "execution_count": 4,
   "metadata": {},
   "outputs": [],
   "source": [
    "def plot_network(cities, neurons, ax=None):\n",
    "    \"\"\"Plot a graphical representation of the problem\"\"\"\n",
    "    mpl.rcParams['agg.path.chunksize'] = 10000\n",
    "\n",
    "    if not ax:\n",
    "        fig = plt.figure(figsize=(5, 5), frameon = False)\n",
    "        axis = fig.add_axes([0,0,1,1])\n",
    "\n",
    "        axis.set_aspect('equal', adjustable='datalim')\n",
    "        plt.axis('off')\n",
    "\n",
    "        axis.scatter(cities['Longitude'], cities['Latitude'], color='red', s=20)\n",
    "        axis.plot(neurons['Longitude'], neurons['Latitude'], 'r.', ls='-', markersize=10)\n",
    "\n",
    "        # plt.savefig(name, bbox_inches='tight', pad_inches=0, dpi=200)\n",
    "        # plt.close()\n",
    "\n",
    "    else:\n",
    "        ax.scatter(cities['Longitude'], cities['Latitude'], color='red', s=20)\n",
    "        ax.plot(neurons[:,0], neurons[:,1], 'r.', ls='-', markersize=2)\n",
    "        return ax\n"
   ]
  },
  {
   "cell_type": "code",
   "execution_count": 5,
   "metadata": {},
   "outputs": [],
   "source": [
    "def plot_route(cities, route, ax=None):\n",
    "    \"\"\"Plot a graphical representation of the route obtained\"\"\"\n",
    "    mpl.rcParams['agg.path.chunksize'] = 10000\n",
    "\n",
    "    if not ax:\n",
    "        fig = plt.figure(figsize=(5, 5), frameon = False)\n",
    "        axis = fig.add_axes([0,0,1,1])\n",
    "\n",
    "        axis.set_aspect('equal', adjustable='datalim')\n",
    "        plt.axis('off')\n",
    "\n",
    "        axis.scatter(cities['Longitude'], cities['Latitude'], color='red', s=20)\n",
    "        route = cities.reindex(route)\n",
    "        route.loc[route.shape[0]] = route.iloc[0]\n",
    "        axis.plot(route['Longitude'], route['Latitude'], color='purple', linewidth=1)\n",
    "\n",
    "        # plt.savefig(name, bbox_inches='tight', pad_inches=0, dpi=200)\n",
    "        # plt.close()\n",
    "\n",
    "    else:\n",
    "        ax.scatter(cities['Longitude'], cities['Latitude'], color='red', s=20)\n",
    "        route = cities.reindex(route)\n",
    "        route.loc[route.shape[0]] = route.iloc[0]\n",
    "        ax.plot(route['Longitude'], route['Latitude'], color='purple', linewidth=1)\n",
    "        return ax\n"
   ]
  },
  {
   "cell_type": "markdown",
   "metadata": {},
   "source": [
    "## SOM Code Begins"
   ]
  },
  {
   "cell_type": "markdown",
   "metadata": {},
   "source": [
    "Here we are using the same dataset which was also used in the other examples, namely, QAOA and Annealing to draw comparisons among them.\n",
    "The file contains 7 datapoints having *Latitudes* and *Longitudes* of different locations in Mumbai, India."
   ]
  },
  {
   "cell_type": "code",
   "execution_count": 6,
   "metadata": {},
   "outputs": [
    {
     "name": "stdout",
     "output_type": "stream",
     "text": [
      "Completed 0 iterations. The network is-\n"
     ]
    },
    {
     "data": {
      "image/png": "[encoded data removed]",
      "text/plain": [
       "<Figure size 360x360 with 1 Axes>"
      ]
     },
     "metadata": {
      "needs_background": "light"
     },
     "output_type": "display_data"
    },
    {
     "name": "stdout",
     "output_type": "stream",
     "text": [
      "Completed 1 iterations. The network is-\n"
     ]
    },
    {
     "data": {
      "image/png": "[encoded data removed]",
      "text/plain": [
       "<Figure size 360x360 with 1 Axes>"
      ]
     },
     "metadata": {
      "needs_background": "light"
     },
     "output_type": "display_data"
    },
    {
     "name": "stdout",
     "output_type": "stream",
     "text": [
      "Completed 3 iterations. The network is-\n"
     ]
    },
    {
     "data": {
      "image/png": "[encoded data removed]",
      "text/plain": [
       "<Figure size 360x360 with 1 Axes>"
      ]
     },
     "metadata": {
      "needs_background": "light"
     },
     "output_type": "display_data"
    },
    {
     "name": "stdout",
     "output_type": "stream",
     "text": [
      "Completed 5 iterations. The network is-\n"
     ]
    },
    {
     "data": {
      "image/png": "[encoded data removed]",
      "text/plain": [
       "<Figure size 360x360 with 1 Axes>"
      ]
     },
     "metadata": {
      "needs_background": "light"
     },
     "output_type": "display_data"
    },
    {
     "name": "stdout",
     "output_type": "stream",
     "text": [
      "Completed 10 iterations. The network is-\n"
     ]
    },
    {
     "data": {
      "image/png": "[encoded data removed]",
      "text/plain": [
       "<Figure size 360x360 with 1 Axes>"
      ]
     },
     "metadata": {
      "needs_background": "light"
     },
     "output_type": "display_data"
    },
    {
     "name": "stdout",
     "output_type": "stream",
     "text": [
      "Completed 50 iterations. The network is-\n"
     ]
    },
    {
     "data": {
      "image/png": "[encoded data removed]",
      "text/plain": [
       "<Figure size 360x360 with 1 Axes>"
      ]
     },
     "metadata": {
      "needs_background": "light"
     },
     "output_type": "display_data"
    },
    {
     "name": "stdout",
     "output_type": "stream",
     "text": [
      "Completed 100 iterations. The network is-\n"
     ]
    },
    {
     "data": {
      "image/png": "[encoded data removed]",
      "text/plain": [
       "<Figure size 360x360 with 1 Axes>"
      ]
     },
     "metadata": {
      "needs_background": "light"
     },
     "output_type": "display_data"
    },
    {
     "name": "stdout",
     "output_type": "stream",
     "text": [
      "Completed 500 iterations. The network is-\n"
     ]
    },
    {
     "data": {
      "image/png": "[encoded data removed]",
      "text/plain": [
       "<Figure size 360x360 with 1 Axes>"
      ]
     },
     "metadata": {
      "needs_background": "light"
     },
     "output_type": "display_data"
    },
    {
     "name": "stdout",
     "output_type": "stream",
     "text": [
      "Completed 1000 iterations. The final network is-\n"
     ]
    },
    {
     "data": {
      "image/png": "[encoded data removed]",
      "text/plain": [
       "<Figure size 360x360 with 1 Axes>"
      ]
     },
     "metadata": {
      "needs_background": "light"
     },
     "output_type": "display_data"
    },
    {
     "name": "stdout",
     "output_type": "stream",
     "text": [
      "Final Route is:\n"
     ]
    },
    {
     "data": {
      "image/png": "[encoded data removed]",
      "text/plain": [
       "<Figure size 360x360 with 1 Axes>"
      ]
     },
     "metadata": {
      "needs_background": "light"
     },
     "output_type": "display_data"
    },
    {
     "name": "stdout",
     "output_type": "stream",
     "text": [
      "Length of Route: 12.00294886811274\n"
     ]
    }
   ],
   "source": [
    "f = open('Dataset/locations_mumbai.csv')\n",
    "cities = pd.read_csv(f)\n",
    "cities = cities[['Longitude', 'Latitude']]\n",
    "\n",
    "eta = 1\n",
    "radii = 1\n",
    "iterations = 1000\n",
    "np.random.seed(100)\n",
    "\n",
    "city = cities\n",
    "network = np.random.rand(len(city),2)\n",
    "\n",
    "for i in range(iterations):\n",
    "    winner  = euclidean_distance(network, city.sample(1).values).argmin()\n",
    "    gaussian= get_neighborhood(winner, int(radii), len(city))\n",
    "    network+= gaussian[:, np.newaxis]*eta*(city - network)\n",
    "    eta = eta*0.99997\n",
    "    radii = radii*0.9997\n",
    "    \n",
    "    if radii < 0.1 or eta<0.001:\n",
    "        print(f\"Radius/Rate has decayed at {i} iterations. Can't computer further.\")\n",
    "        break   \n",
    "    \n",
    "    A = [0, 1, 3, 5, 10, 50, 100, 500, 1000] # Chosen points to show how it is trained.\n",
    "    if i in A:\n",
    "        print(f'Completed {i} iterations. The network is-')\n",
    "        plot_network(cities, network)\n",
    "        plt.show()\n",
    "else:\n",
    "    print('Completed {} iterations. The final network is-'.format(iterations))\n",
    "    plot_network(city, network)\n",
    "    plt.show()\n",
    "\n",
    "city['winner'] = city.apply(lambda c: (euclidean_distance(network, c).argmin()), axis=1, raw=True)\n",
    "route = city.sort_values('winner').index\n",
    "print('Final Route is:')\n",
    "plot_route(cities, route)\n",
    "plt.show()\n",
    "                            \n",
    "cities = cities.reindex(route)\n",
    "distance = np.sum(euclidean_distance(cities, np.roll(cities, 1, axis=0)))\n",
    "print('Length of Route:', distance)"
   ]
  },
  {
   "cell_type": "markdown",
   "metadata": {},
   "source": [
    "SInce we gave 1000 iterations, it was able to converge well. But, with 10000 iterations, radius decays before 8000 iterations thus sjowing a limit to its convergence.\n",
    "\n",
    "*SOM* are very good and fast in solving TSP and works even on dataset as large as 20000 cities but might not converge in each case which is a limitation."
   ]
  },
  {
   "cell_type": "markdown",
   "metadata": {},
   "source": [
    "*We aim to create a Quantum SOM that will be free from this limitaion as that would be fster and using parallelism will take less iterations.*"
   ]
  }
 ],
 "metadata": {
  "kernelspec": {
   "display_name": "Python 3 (ipykernel)",
   "language": "python",
   "name": "python3"
  },
  "language_info": {
   "codemirror_mode": {
    "name": "ipython",
    "version": 3
   },
   "file_extension": ".py",
   "mimetype": "text/x-python",
   "name": "python",
   "nbconvert_exporter": "python",
   "pygments_lexer": "ipython3",
   "version": "3.10.6"
  },
  "vscode": {
   "interpreter": {
    "hash": "da86e0521eaa888c31d8463847791b19d5bdeb3dec9781ca08a465cd32afc3bc"
   }
  }
 },
 "nbformat": 4,
 "nbformat_minor": 4
}
