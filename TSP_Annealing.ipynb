{
 "cells": [
  {
   "cell_type": "markdown",
   "id": "bc8789a0",
   "metadata": {},
   "source": [
    "# Install packages"
   ]
  },
  {
   "cell_type": "code",
   "execution_count": null,
   "id": "46bb8d48",
   "metadata": {},
   "outputs": [],
   "source": [
    "!pip install dwave-system"
   ]
  },
  {
   "cell_type": "code",
   "execution_count": null,
   "id": "09781e53",
   "metadata": {},
   "outputs": [],
   "source": [
    "!pip install pandas -q"
   ]
  },
  {
   "cell_type": "code",
   "execution_count": null,
   "id": "0790d25f",
   "metadata": {},
   "outputs": [],
   "source": [
    "!pip install boto3"
   ]
  },
  {
   "cell_type": "code",
   "execution_count": null,
   "id": "b1d30252",
   "metadata": {},
   "outputs": [],
   "source": [
    "pip install amazon-braket-sdk"
   ]
  },
  {
   "cell_type": "code",
   "execution_count": null,
   "id": "424d7b8f",
   "metadata": {},
   "outputs": [],
   "source": [
    "#pip show amazon-braket-sdk"
   ]
  },
  {
   "cell_type": "code",
   "execution_count": null,
   "id": "14e15288",
   "metadata": {
    "scrolled": true
   },
   "outputs": [],
   "source": [
    "pip install dwave-ocean-sdk"
   ]
  },
  {
   "cell_type": "code",
   "execution_count": null,
   "id": "5e7b9635",
   "metadata": {},
   "outputs": [],
   "source": [
    "pip install amazon-braket-ocean-plugin"
   ]
  },
  {
   "cell_type": "markdown",
   "id": "36b3d814",
   "metadata": {},
   "source": [
    "# Code begins here\n",
    "Source code obatained from [here](https://github.com/dwavesystems/dwave-networkx/blob/main/dwave_networkx/algorithms/tsp.py#L1).\n",
    "\n",
    "Other references: [Ref1](https://github.com/dwave-training/traveling-salesman/blob/master/hss_exercise.py), [Ref2](https://github.com/aws/amazon-braket-examples/blob/main/examples/quantum_annealing/Dwave_TravelingSalesmanProblem/Dwave_TravelingSalesmanProblem.ipynb)."
   ]
  },
  {
   "cell_type": "code",
   "execution_count": 1,
   "id": "835487c0",
   "metadata": {},
   "outputs": [],
   "source": [
    "import itertools\n",
    "\n",
    "from collections import defaultdict\n",
    "\n",
    "from dwave_networkx.utils import binary_quadratic_model_sampler\n",
    "\n",
    "__all__ = [\"traveling_salesperson\",\n",
    "           \"traveling_salesperson_qubo\",\n",
    "           \"traveling_salesman\",\n",
    "           \"traveling_salesman_qubo\",\n",
    "           \"is_hamiltonian_path\",\n",
    "           ]\n",
    "\n",
    "\n",
    "@binary_quadratic_model_sampler(1)\n",
    "def traveling_salesperson(G, sampler=None, lagrange=None, weight='weight',\n",
    "                          start=None, **sampler_args):\n",
    "    \"\"\"Returns an approximate minimum traveling salesperson route.\n",
    "    Defines a QUBO with ground states corresponding to the\n",
    "    minimum routes and uses the sampler to sample\n",
    "    from it.\n",
    "    A route is a cycle in the graph that reaches each node exactly once.\n",
    "    A minimum route is a route with the smallest total edge weight.\n",
    "    Parameters\n",
    "    ----------\n",
    "    G : NetworkX graph\n",
    "        The graph on which to find a minimum traveling salesperson route.\n",
    "        This should be a complete graph with non-zero weights on every edge.\n",
    "    sampler :\n",
    "        A binary quadratic model sampler. A sampler is a process that\n",
    "        samples from low energy states in models defined by an Ising\n",
    "        equation or a Quadratic Unconstrained Binary Optimization\n",
    "        Problem (QUBO). A sampler is expected to have a 'sample_qubo'\n",
    "        and 'sample_ising' method. A sampler is expected to return an\n",
    "        iterable of samples, in order of increasing energy. If no\n",
    "        sampler is provided, one must be provided using the\n",
    "        `set_default_sampler` function.\n",
    "    lagrange : number, optional (default None)\n",
    "        Lagrange parameter to weight constraints (visit every city once)\n",
    "        versus objective (shortest distance route).\n",
    "    weight : optional (default 'weight')\n",
    "        The name of the edge attribute containing the weight.\n",
    "    start : node, optional\n",
    "        If provided, the route will begin at `start`.\n",
    "    sampler_args :\n",
    "        Additional keyword parameters are passed to the sampler.\n",
    "    Returns\n",
    "    -------\n",
    "    route : list\n",
    "       List of nodes in order to be visited on a route\n",
    "    Examples\n",
    "    --------\n",
    "    >>> import dimod\n",
    "    ...\n",
    "    >>> G = nx.Graph()\n",
    "    >>> G.add_weighted_edges_from({(0, 1, .1), (0, 2, .5), (0, 3, .1), (1, 2, .1),\n",
    "    ...                            (1, 3, .5), (2, 3, .1)})\n",
    "    >>> dnx.traveling_salesperson(G, dimod.ExactSolver(), start=0) # doctest: +SKIP\n",
    "    [0, 1, 2, 3]\n",
    "    Notes\n",
    "    -----\n",
    "    Samplers by their nature may not return the optimal solution. This\n",
    "    function does not attempt to confirm the quality of the returned\n",
    "    sample.\n",
    "    \"\"\"\n",
    "    # Get a QUBO representation of the problem\n",
    "    Q = traveling_salesperson_qubo(G, lagrange, weight)\n",
    "\n",
    "    # use the sampler to find low energy states\n",
    "    response = sampler.sample_qubo(Q, **sampler_args)\n",
    "\n",
    "    sample = response.first.sample\n",
    "\n",
    "    route = [None]*len(G)\n",
    "    for (city, time), val in sample.items():\n",
    "        if val:\n",
    "            route[time] = city\n",
    "\n",
    "    if start is not None and route[0] != start:\n",
    "        # rotate to put the start in front\n",
    "        idx = route.index(start)\n",
    "        route = route[idx:] + route[:idx]\n",
    "\n",
    "    return route\n",
    "\n",
    "\n",
    "traveling_salesman = traveling_salesperson\n",
    "\n",
    "\n",
    "def traveling_salesperson_qubo(G, lagrange=None, weight='weight', missing_edge_weight=None):\n",
    "    \"\"\"Return the QUBO with ground states corresponding to a minimum TSP route.\n",
    "    If :math:`|G|` is the number of nodes in the graph, the resulting qubo will have:\n",
    "    * :math:`|G|^2` variables/nodes\n",
    "    * :math:`2 |G|^2 (|G| - 1)` interactions/edges\n",
    "    Parameters\n",
    "    ----------\n",
    "    G : NetworkX graph\n",
    "        A complete graph in which each edge has a attribute giving its weight.\n",
    "    lagrange : number, optional (default None)\n",
    "        Lagrange parameter to weight constraints (no edges within set)\n",
    "        versus objective (largest set possible).\n",
    "    weight : optional (default 'weight')\n",
    "        The name of the edge attribute containing the weight.\n",
    "    \n",
    "    missing_edge_weight : number, optional (default None)\n",
    "        For bi-directional graphs, the weight given to missing edges.\n",
    "        If None is given (the default), missing edges will be set to\n",
    "        the sum of all weights.\n",
    "    Returns\n",
    "    -------\n",
    "    QUBO : dict\n",
    "       The QUBO with ground states corresponding to a minimum travelling\n",
    "       salesperson route. The QUBO variables are labelled `(c, t)` where `c`\n",
    "       is a node in `G` and `t` is the time index. For instance, if `('a', 0)`\n",
    "       is 1 in the ground state, that means the node 'a' is visted first.\n",
    "    \"\"\"\n",
    "    N = G.number_of_nodes()\n",
    "\n",
    "    if lagrange is None:\n",
    "        # If no lagrange parameter provided, set to 'average' tour length.\n",
    "        # Usually a good estimate for a lagrange parameter is between 75-150%\n",
    "        # of the objective function value, so we come up with an estimate for \n",
    "        # tour length and use that.\n",
    "        if G.number_of_edges()>0:\n",
    "            lagrange = G.size(weight=weight)*G.number_of_nodes()/G.number_of_edges()\n",
    "        else:\n",
    "            lagrange = 2\n",
    "    \n",
    "    # calculate default missing_edge_weight if required\n",
    "    if missing_edge_weight is None:\n",
    "        # networkx method to calculate sum of all weights\n",
    "        missing_edge_weight = G.size(weight=weight)\n",
    "\n",
    "    # some input checking\n",
    "    if N in (1, 2):\n",
    "        msg = \"graph must have at least 3 nodes or be empty\"\n",
    "        raise ValueError(msg)\n",
    "\n",
    "    # Creating the QUBO\n",
    "    Q = defaultdict(float)\n",
    "\n",
    "    # Constraint that each row has exactly one 1\n",
    "    for node in G:\n",
    "        for pos_1 in range(N):\n",
    "            Q[((node, pos_1), (node, pos_1))] -= lagrange\n",
    "            for pos_2 in range(pos_1+1, N):\n",
    "                Q[((node, pos_1), (node, pos_2))] += 2.0*lagrange\n",
    "\n",
    "    # Constraint that each col has exactly one 1\n",
    "    for pos in range(N):\n",
    "        for node_1 in G:\n",
    "            Q[((node_1, pos), (node_1, pos))] -= lagrange\n",
    "            for node_2 in set(G)-{node_1}:\n",
    "                # QUBO coefficient is 2*lagrange, but we are placing this value \n",
    "                # above *and* below the diagonal, so we put half in each position.\n",
    "                Q[((node_1, pos), (node_2, pos))] += lagrange\n",
    "\n",
    "    # Objective that minimizes distance\n",
    "    for u, v in itertools.combinations(G.nodes, 2):\n",
    "        for pos in range(N):\n",
    "            nextpos = (pos + 1) % N\n",
    "\n",
    "            # going from u -> v\n",
    "            try:\n",
    "                value = G[u][v][weight]\n",
    "            except KeyError:\n",
    "                value = missing_edge_weight\n",
    "\n",
    "            Q[((u, pos), (v, nextpos))] += value\n",
    "\n",
    "            # going from v -> u\n",
    "            try:\n",
    "                value = G[v][u][weight]\n",
    "            except KeyError:\n",
    "                value = missing_edge_weight\n",
    "\n",
    "            Q[((v, pos), (u, nextpos))] += value\n",
    "\n",
    "    return Q\n",
    "\n",
    "\n",
    "traveling_salesman_qubo = traveling_salesperson_qubo\n",
    "\n",
    "\n",
    "def is_hamiltonian_path(G, route):\n",
    "    \"\"\"Determines whether the given list forms a valid TSP route.\n",
    "    A travelling salesperson route must visit each city exactly once.\n",
    "    Parameters\n",
    "    ----------\n",
    "    G : NetworkX graph\n",
    "        The graph on which to check the route.\n",
    "    route : list\n",
    "        List of nodes in the order that they are visited.\n",
    "    Returns\n",
    "    -------\n",
    "    is_valid : bool\n",
    "        True if route forms a valid travelling salesperson route.\n",
    "    \"\"\"\n",
    "\n",
    "    return (set(route) == set(G))"
   ]
  },
  {
   "cell_type": "code",
   "execution_count": 2,
   "id": "0153f980",
   "metadata": {},
   "outputs": [
    {
     "data": {
      "text/plain": [
       "{(0, 1): Text(0.007101753125483334, -0.07364023887696097, '2.7'),\n",
       " (0, 2): Text(-0.08485073588930797, 0.8363519577228222, '3.7'),\n",
       " (0, 3): Text(-0.9484954149858719, -0.04535257093554279, '7.2'),\n",
       " (0, 4): Text(-0.45245034287385333, 0.3151812852558069, '8.4'),\n",
       " (1, 2): Text(0.9080475109852086, 0.07435143006844436, '4.5'),\n",
       " (1, 3): Text(0.0444028318886448, -0.8073530985899207, '3.7'),\n",
       " (1, 4): Text(0.5404479040006633, -0.446819242398571, '9.4'),\n",
       " (2, 3): Text(-0.047549657126146505, 0.10263909800986254, '3.5'),\n",
       " (2, 4): Text(0.44849541498587203, 0.46317295420121224, '5.4'),\n",
       " (3, 4): Text(-0.41514926411069186, -0.41853157445715283, '6.2')}"
      ]
     },
     "execution_count": 2,
     "metadata": {},
     "output_type": "execute_result"
    },
    {
     "data": {
      "image/png": "[encoded data removed]",
      "text/plain": [
       "<Figure size 432x288 with 1 Axes>"
      ]
     },
     "metadata": {},
     "output_type": "display_data"
    }
   ],
   "source": [
    "import dimod\n",
    "import matplotlib.pyplot as plt\n",
    "import dwave_networkx as dnx\n",
    "import networkx as nx\n",
    "import pandas as pd\n",
    "import itertools\n",
    "\n",
    "%matplotlib inline\n",
    "from random import *\n",
    "data = pd.read_csv('dataset.txt', sep ='\\s+', header=None)\n",
    "# Place --  Node Number\n",
    "# Fort  --  0\n",
    "# Churchgate --  1\n",
    "# Khetwadi  --  2\n",
    "# Malabar Hills  --  3\n",
    "# Parel  --  4\n",
    "num_cities = data.shape[0]\n",
    "G = nx.from_pandas_adjacency(data)\n",
    "pos = nx.spring_layout(G, seed = randint(1,100))\n",
    "nodes = G.nodes()\n",
    "edges = G.edges()\n",
    "weights = nx.get_edge_attributes(G,'weight')\n",
    "# plt.axis('off')\n",
    "nx.draw_networkx(G, pos, with_labels=True)\n",
    "nx.draw_networkx_edge_labels(G, pos, edge_labels=weights)"
   ]
  },
  {
   "cell_type": "markdown",
   "id": "d87eaf42",
   "metadata": {},
   "source": [
    "## Solution with Simulated Annealing"
   ]
  },
  {
   "cell_type": "code",
   "execution_count": 4,
   "id": "45c1cc8c",
   "metadata": {},
   "outputs": [
    {
     "name": "stdout",
     "output_type": "stream",
     "text": [
      "Route found with simulated annealing: [0, 1, 3, 4, 2]\n",
      "Total distance, including return to initial node: 21.7 km\n"
     ]
    }
   ],
   "source": [
    "route = dnx.traveling_salesperson(G, dimod.ExactSolver(), start=0)\n",
    "print('Route found with simulated annealing:', route)\n",
    "\n",
    "total_dist = 0\n",
    "for idx, node in enumerate(route[:-1]):\n",
    "    dist = data[route[idx+1]][route[idx]]\n",
    "    total_dist += dist\n",
    "    \n",
    "return_distance = data[route[0]][route[-1]]\n",
    "print('Total distance, including return to initial node:', return_distance+total_dist, 'km')"
   ]
  },
  {
   "cell_type": "markdown",
   "id": "eb755b8b",
   "metadata": {},
   "source": [
    "## Solution on D-Wave Quantum Annealer"
   ]
  },
  {
   "cell_type": "code",
   "execution_count": 5,
   "id": "3e07730e",
   "metadata": {},
   "outputs": [
    {
     "ename": "NoRegionError",
     "evalue": "You must specify a region.",
     "output_type": "error",
     "traceback": [
      "\u001b[1;31m---------------------------------------------------------------------------\u001b[0m",
      "\u001b[1;31mNoRegionError\u001b[0m                             Traceback (most recent call last)",
      "\u001b[1;32m~\\AppData\\Local\\Temp/ipykernel_15572/2314375987.py\u001b[0m in \u001b[0;36m<module>\u001b[1;34m\u001b[0m\n\u001b[0;32m      5\u001b[0m \u001b[1;31m##   Put Amazon-Braket account details here!!\u001b[0m\u001b[1;33m\u001b[0m\u001b[1;33m\u001b[0m\u001b[0m\n\u001b[0;32m      6\u001b[0m \u001b[1;33m\u001b[0m\u001b[0m\n\u001b[1;32m----> 7\u001b[1;33m \u001b[0msampler\u001b[0m \u001b[1;33m=\u001b[0m \u001b[0mBraketDWaveSampler\u001b[0m\u001b[1;33m(\u001b[0m\u001b[0mdevice_arn\u001b[0m\u001b[1;33m=\u001b[0m\u001b[1;34m'arn:aws:braket:::device/qpu/d-wave/DW_2000Q_6'\u001b[0m\u001b[1;33m)\u001b[0m\u001b[1;33m\u001b[0m\u001b[1;33m\u001b[0m\u001b[0m\n\u001b[0m\u001b[0;32m      8\u001b[0m \u001b[0msampler\u001b[0m \u001b[1;33m=\u001b[0m \u001b[0mEmbeddingComposite\u001b[0m\u001b[1;33m(\u001b[0m\u001b[0msampler\u001b[0m\u001b[1;33m)\u001b[0m\u001b[1;33m\u001b[0m\u001b[1;33m\u001b[0m\u001b[0m\n\u001b[0;32m      9\u001b[0m \u001b[0mnum_shots\u001b[0m \u001b[1;33m=\u001b[0m \u001b[1;36m1000\u001b[0m\u001b[1;33m\u001b[0m\u001b[1;33m\u001b[0m\u001b[0m\n",
      "\u001b[1;32m~\\anaconda3\\lib\\site-packages\\braket\\ocean_plugin\\braket_dwave_sampler.py\u001b[0m in \u001b[0;36m__init__\u001b[1;34m(self, s3_destination_folder, device_arn, aws_session, logger)\u001b[0m\n\u001b[0;32m     55\u001b[0m         \u001b[0mlogger\u001b[0m\u001b[1;33m:\u001b[0m \u001b[0mLogger\u001b[0m \u001b[1;33m=\u001b[0m \u001b[0mgetLogger\u001b[0m\u001b[1;33m(\u001b[0m\u001b[0m__name__\u001b[0m\u001b[1;33m)\u001b[0m\u001b[1;33m,\u001b[0m\u001b[1;33m\u001b[0m\u001b[1;33m\u001b[0m\u001b[0m\n\u001b[0;32m     56\u001b[0m     ):\n\u001b[1;32m---> 57\u001b[1;33m         \u001b[0msuper\u001b[0m\u001b[1;33m(\u001b[0m\u001b[1;33m)\u001b[0m\u001b[1;33m.\u001b[0m\u001b[0m__init__\u001b[0m\u001b[1;33m(\u001b[0m\u001b[0ms3_destination_folder\u001b[0m\u001b[1;33m,\u001b[0m \u001b[0mdevice_arn\u001b[0m\u001b[1;33m,\u001b[0m \u001b[0maws_session\u001b[0m\u001b[1;33m,\u001b[0m \u001b[0mlogger\u001b[0m\u001b[1;33m)\u001b[0m\u001b[1;33m\u001b[0m\u001b[1;33m\u001b[0m\u001b[0m\n\u001b[0m\u001b[0;32m     58\u001b[0m \u001b[1;33m\u001b[0m\u001b[0m\n\u001b[0;32m     59\u001b[0m     \u001b[1;33m@\u001b[0m\u001b[0mproperty\u001b[0m\u001b[1;33m\u001b[0m\u001b[1;33m\u001b[0m\u001b[0m\n",
      "\u001b[1;32m~\\anaconda3\\lib\\site-packages\\braket\\ocean_plugin\\braket_sampler.py\u001b[0m in \u001b[0;36m__init__\u001b[1;34m(self, s3_destination_folder, device_arn, aws_session, logger)\u001b[0m\n\u001b[0;32m     71\u001b[0m         \u001b[0mself\u001b[0m\u001b[1;33m.\u001b[0m\u001b[0m_logger\u001b[0m \u001b[1;33m=\u001b[0m \u001b[0mlogger\u001b[0m\u001b[1;33m\u001b[0m\u001b[1;33m\u001b[0m\u001b[0m\n\u001b[0;32m     72\u001b[0m \u001b[1;33m\u001b[0m\u001b[0m\n\u001b[1;32m---> 73\u001b[1;33m         \u001b[0mself\u001b[0m\u001b[1;33m.\u001b[0m\u001b[0msolver\u001b[0m \u001b[1;33m=\u001b[0m \u001b[0mAwsDevice\u001b[0m\u001b[1;33m(\u001b[0m\u001b[0mdevice_arn\u001b[0m\u001b[1;33m,\u001b[0m \u001b[0maws_session\u001b[0m\u001b[1;33m)\u001b[0m\u001b[1;33m\u001b[0m\u001b[1;33m\u001b[0m\u001b[0m\n\u001b[0m\u001b[0;32m     74\u001b[0m         \u001b[0muser_agent\u001b[0m \u001b[1;33m=\u001b[0m \u001b[1;34mf\"BraketOceanPlugin/{__version__}\"\u001b[0m\u001b[1;33m\u001b[0m\u001b[1;33m\u001b[0m\u001b[0m\n\u001b[0;32m     75\u001b[0m         \u001b[0mself\u001b[0m\u001b[1;33m.\u001b[0m\u001b[0msolver\u001b[0m\u001b[1;33m.\u001b[0m\u001b[0maws_session\u001b[0m\u001b[1;33m.\u001b[0m\u001b[0madd_braket_user_agent\u001b[0m\u001b[1;33m(\u001b[0m\u001b[0muser_agent\u001b[0m\u001b[1;33m)\u001b[0m\u001b[1;33m\u001b[0m\u001b[1;33m\u001b[0m\u001b[0m\n",
      "\u001b[1;32m~\\anaconda3\\lib\\site-packages\\braket\\aws\\aws_device.py\u001b[0m in \u001b[0;36m__init__\u001b[1;34m(self, arn, aws_session)\u001b[0m\n\u001b[0;32m     84\u001b[0m         \u001b[0mself\u001b[0m\u001b[1;33m.\u001b[0m\u001b[0m_topology_graph\u001b[0m \u001b[1;33m=\u001b[0m \u001b[1;32mNone\u001b[0m\u001b[1;33m\u001b[0m\u001b[1;33m\u001b[0m\u001b[0m\n\u001b[0;32m     85\u001b[0m         \u001b[0mself\u001b[0m\u001b[1;33m.\u001b[0m\u001b[0m_type\u001b[0m \u001b[1;33m=\u001b[0m \u001b[1;32mNone\u001b[0m\u001b[1;33m\u001b[0m\u001b[1;33m\u001b[0m\u001b[0m\n\u001b[1;32m---> 86\u001b[1;33m         \u001b[0mself\u001b[0m\u001b[1;33m.\u001b[0m\u001b[0m_aws_session\u001b[0m \u001b[1;33m=\u001b[0m \u001b[0mself\u001b[0m\u001b[1;33m.\u001b[0m\u001b[0m_get_session_and_initialize\u001b[0m\u001b[1;33m(\u001b[0m\u001b[0maws_session\u001b[0m \u001b[1;32mor\u001b[0m \u001b[0mAwsSession\u001b[0m\u001b[1;33m(\u001b[0m\u001b[1;33m)\u001b[0m\u001b[1;33m)\u001b[0m\u001b[1;33m\u001b[0m\u001b[1;33m\u001b[0m\u001b[0m\n\u001b[0m\u001b[0;32m     87\u001b[0m         \u001b[0mself\u001b[0m\u001b[1;33m.\u001b[0m\u001b[0m_ports\u001b[0m \u001b[1;33m=\u001b[0m \u001b[1;32mNone\u001b[0m\u001b[1;33m\u001b[0m\u001b[1;33m\u001b[0m\u001b[0m\n\u001b[0;32m     88\u001b[0m         \u001b[0mself\u001b[0m\u001b[1;33m.\u001b[0m\u001b[0m_frames\u001b[0m \u001b[1;33m=\u001b[0m \u001b[1;32mNone\u001b[0m\u001b[1;33m\u001b[0m\u001b[1;33m\u001b[0m\u001b[0m\n",
      "\u001b[1;32m~\\anaconda3\\lib\\site-packages\\braket\\aws\\aws_session.py\u001b[0m in \u001b[0;36m__init__\u001b[1;34m(self, boto_session, braket_client, config, default_bucket)\u001b[0m\n\u001b[0;32m     74\u001b[0m                 \u001b[0mregion_name\u001b[0m\u001b[1;33m=\u001b[0m\u001b[0mos\u001b[0m\u001b[1;33m.\u001b[0m\u001b[0menviron\u001b[0m\u001b[1;33m.\u001b[0m\u001b[0mget\u001b[0m\u001b[1;33m(\u001b[0m\u001b[1;34m\"AWS_REGION\"\u001b[0m\u001b[1;33m)\u001b[0m\u001b[1;33m\u001b[0m\u001b[1;33m\u001b[0m\u001b[0m\n\u001b[0;32m     75\u001b[0m             )\n\u001b[1;32m---> 76\u001b[1;33m             self.braket_client = self.boto_session.client(\n\u001b[0m\u001b[0;32m     77\u001b[0m                 \u001b[1;34m\"braket\"\u001b[0m\u001b[1;33m,\u001b[0m \u001b[0mconfig\u001b[0m\u001b[1;33m=\u001b[0m\u001b[0mself\u001b[0m\u001b[1;33m.\u001b[0m\u001b[0m_config\u001b[0m\u001b[1;33m,\u001b[0m \u001b[0mendpoint_url\u001b[0m\u001b[1;33m=\u001b[0m\u001b[0mos\u001b[0m\u001b[1;33m.\u001b[0m\u001b[0menviron\u001b[0m\u001b[1;33m.\u001b[0m\u001b[0mget\u001b[0m\u001b[1;33m(\u001b[0m\u001b[1;34m\"BRAKET_ENDPOINT\"\u001b[0m\u001b[1;33m)\u001b[0m\u001b[1;33m\u001b[0m\u001b[1;33m\u001b[0m\u001b[0m\n\u001b[0;32m     78\u001b[0m             )\n",
      "\u001b[1;32m~\\anaconda3\\lib\\site-packages\\boto3\\session.py\u001b[0m in \u001b[0;36mclient\u001b[1;34m(self, service_name, region_name, api_version, use_ssl, verify, endpoint_url, aws_access_key_id, aws_secret_access_key, aws_session_token, config)\u001b[0m\n\u001b[0;32m    297\u001b[0m \u001b[1;33m\u001b[0m\u001b[0m\n\u001b[0;32m    298\u001b[0m         \"\"\"\n\u001b[1;32m--> 299\u001b[1;33m         return self._session.create_client(\n\u001b[0m\u001b[0;32m    300\u001b[0m             \u001b[0mservice_name\u001b[0m\u001b[1;33m,\u001b[0m\u001b[1;33m\u001b[0m\u001b[1;33m\u001b[0m\u001b[0m\n\u001b[0;32m    301\u001b[0m             \u001b[0mregion_name\u001b[0m\u001b[1;33m=\u001b[0m\u001b[0mregion_name\u001b[0m\u001b[1;33m,\u001b[0m\u001b[1;33m\u001b[0m\u001b[1;33m\u001b[0m\u001b[0m\n",
      "\u001b[1;32m~\\anaconda3\\lib\\site-packages\\botocore\\session.py\u001b[0m in \u001b[0;36mcreate_client\u001b[1;34m(self, service_name, region_name, api_version, use_ssl, verify, endpoint_url, aws_access_key_id, aws_secret_access_key, aws_session_token, config)\u001b[0m\n\u001b[0;32m    974\u001b[0m             \u001b[0mconfig_store\u001b[0m\u001b[1;33m,\u001b[0m\u001b[1;33m\u001b[0m\u001b[1;33m\u001b[0m\u001b[0m\n\u001b[0;32m    975\u001b[0m         )\n\u001b[1;32m--> 976\u001b[1;33m         client = client_creator.create_client(\n\u001b[0m\u001b[0;32m    977\u001b[0m             \u001b[0mservice_name\u001b[0m\u001b[1;33m=\u001b[0m\u001b[0mservice_name\u001b[0m\u001b[1;33m,\u001b[0m\u001b[1;33m\u001b[0m\u001b[1;33m\u001b[0m\u001b[0m\n\u001b[0;32m    978\u001b[0m             \u001b[0mregion_name\u001b[0m\u001b[1;33m=\u001b[0m\u001b[0mregion_name\u001b[0m\u001b[1;33m,\u001b[0m\u001b[1;33m\u001b[0m\u001b[1;33m\u001b[0m\u001b[0m\n",
      "\u001b[1;32m~\\anaconda3\\lib\\site-packages\\botocore\\client.py\u001b[0m in \u001b[0;36mcreate_client\u001b[1;34m(self, service_name, region_name, is_secure, endpoint_url, verify, credentials, scoped_config, api_version, client_config, auth_token)\u001b[0m\n\u001b[0;32m    142\u001b[0m             \u001b[0mconfig_store\u001b[0m\u001b[1;33m=\u001b[0m\u001b[0mself\u001b[0m\u001b[1;33m.\u001b[0m\u001b[0m_config_store\u001b[0m\u001b[1;33m,\u001b[0m\u001b[1;33m\u001b[0m\u001b[1;33m\u001b[0m\u001b[0m\n\u001b[0;32m    143\u001b[0m         )\n\u001b[1;32m--> 144\u001b[1;33m         client_args = self._get_client_args(\n\u001b[0m\u001b[0;32m    145\u001b[0m             \u001b[0mservice_model\u001b[0m\u001b[1;33m,\u001b[0m\u001b[1;33m\u001b[0m\u001b[1;33m\u001b[0m\u001b[0m\n\u001b[0;32m    146\u001b[0m             \u001b[0mregion_name\u001b[0m\u001b[1;33m,\u001b[0m\u001b[1;33m\u001b[0m\u001b[1;33m\u001b[0m\u001b[0m\n",
      "\u001b[1;32m~\\anaconda3\\lib\\site-packages\\botocore\\client.py\u001b[0m in \u001b[0;36m_get_client_args\u001b[1;34m(self, service_model, region_name, is_secure, endpoint_url, verify, credentials, scoped_config, client_config, endpoint_bridge, auth_token, endpoints_ruleset_data, partition_data)\u001b[0m\n\u001b[0;32m    460\u001b[0m             \u001b[0mconfig_store\u001b[0m\u001b[1;33m=\u001b[0m\u001b[0mself\u001b[0m\u001b[1;33m.\u001b[0m\u001b[0m_config_store\u001b[0m\u001b[1;33m,\u001b[0m\u001b[1;33m\u001b[0m\u001b[1;33m\u001b[0m\u001b[0m\n\u001b[0;32m    461\u001b[0m         )\n\u001b[1;32m--> 462\u001b[1;33m         return args_creator.get_client_args(\n\u001b[0m\u001b[0;32m    463\u001b[0m             \u001b[0mservice_model\u001b[0m\u001b[1;33m,\u001b[0m\u001b[1;33m\u001b[0m\u001b[1;33m\u001b[0m\u001b[0m\n\u001b[0;32m    464\u001b[0m             \u001b[0mregion_name\u001b[0m\u001b[1;33m,\u001b[0m\u001b[1;33m\u001b[0m\u001b[1;33m\u001b[0m\u001b[0m\n",
      "\u001b[1;32m~\\anaconda3\\lib\\site-packages\\botocore\\args.py\u001b[0m in \u001b[0;36mget_client_args\u001b[1;34m(self, service_model, region_name, is_secure, endpoint_url, verify, credentials, scoped_config, client_config, endpoint_bridge, auth_token, endpoints_ruleset_data, partition_data)\u001b[0m\n\u001b[0;32m     90\u001b[0m         \u001b[0mpartition_data\u001b[0m\u001b[1;33m=\u001b[0m\u001b[1;32mNone\u001b[0m\u001b[1;33m,\u001b[0m\u001b[1;33m\u001b[0m\u001b[1;33m\u001b[0m\u001b[0m\n\u001b[0;32m     91\u001b[0m     ):\n\u001b[1;32m---> 92\u001b[1;33m         final_args = self.compute_client_args(\n\u001b[0m\u001b[0;32m     93\u001b[0m             \u001b[0mservice_model\u001b[0m\u001b[1;33m,\u001b[0m\u001b[1;33m\u001b[0m\u001b[1;33m\u001b[0m\u001b[0m\n\u001b[0;32m     94\u001b[0m             \u001b[0mclient_config\u001b[0m\u001b[1;33m,\u001b[0m\u001b[1;33m\u001b[0m\u001b[1;33m\u001b[0m\u001b[0m\n",
      "\u001b[1;32m~\\anaconda3\\lib\\site-packages\\botocore\\args.py\u001b[0m in \u001b[0;36mcompute_client_args\u001b[1;34m(self, service_model, client_config, endpoint_bridge, region_name, endpoint_url, is_secure, scoped_config)\u001b[0m\n\u001b[0;32m    203\u001b[0m \u001b[1;33m\u001b[0m\u001b[0m\n\u001b[0;32m    204\u001b[0m         \u001b[0ms3_config\u001b[0m \u001b[1;33m=\u001b[0m \u001b[0mself\u001b[0m\u001b[1;33m.\u001b[0m\u001b[0mcompute_s3_config\u001b[0m\u001b[1;33m(\u001b[0m\u001b[0mclient_config\u001b[0m\u001b[1;33m)\u001b[0m\u001b[1;33m\u001b[0m\u001b[1;33m\u001b[0m\u001b[0m\n\u001b[1;32m--> 205\u001b[1;33m         endpoint_config = self._compute_endpoint_config(\n\u001b[0m\u001b[0;32m    206\u001b[0m             \u001b[0mservice_name\u001b[0m\u001b[1;33m=\u001b[0m\u001b[0mservice_name\u001b[0m\u001b[1;33m,\u001b[0m\u001b[1;33m\u001b[0m\u001b[1;33m\u001b[0m\u001b[0m\n\u001b[0;32m    207\u001b[0m             \u001b[0mregion_name\u001b[0m\u001b[1;33m=\u001b[0m\u001b[0mregion_name\u001b[0m\u001b[1;33m,\u001b[0m\u001b[1;33m\u001b[0m\u001b[1;33m\u001b[0m\u001b[0m\n",
      "\u001b[1;32m~\\anaconda3\\lib\\site-packages\\botocore\\args.py\u001b[0m in \u001b[0;36m_compute_endpoint_config\u001b[1;34m(self, service_name, region_name, endpoint_url, is_secure, endpoint_bridge, s3_config)\u001b[0m\n\u001b[0;32m    301\u001b[0m         \u001b[1;32mif\u001b[0m \u001b[0mservice_name\u001b[0m \u001b[1;33m==\u001b[0m \u001b[1;34m'sts'\u001b[0m\u001b[1;33m:\u001b[0m\u001b[1;33m\u001b[0m\u001b[1;33m\u001b[0m\u001b[0m\n\u001b[0;32m    302\u001b[0m             \u001b[1;32mreturn\u001b[0m \u001b[0mself\u001b[0m\u001b[1;33m.\u001b[0m\u001b[0m_compute_sts_endpoint_config\u001b[0m\u001b[1;33m(\u001b[0m\u001b[1;33m**\u001b[0m\u001b[0mresolve_endpoint_kwargs\u001b[0m\u001b[1;33m)\u001b[0m\u001b[1;33m\u001b[0m\u001b[1;33m\u001b[0m\u001b[0m\n\u001b[1;32m--> 303\u001b[1;33m         \u001b[1;32mreturn\u001b[0m \u001b[0mself\u001b[0m\u001b[1;33m.\u001b[0m\u001b[0m_resolve_endpoint\u001b[0m\u001b[1;33m(\u001b[0m\u001b[1;33m**\u001b[0m\u001b[0mresolve_endpoint_kwargs\u001b[0m\u001b[1;33m)\u001b[0m\u001b[1;33m\u001b[0m\u001b[1;33m\u001b[0m\u001b[0m\n\u001b[0m\u001b[0;32m    304\u001b[0m \u001b[1;33m\u001b[0m\u001b[0m\n\u001b[0;32m    305\u001b[0m     def _compute_s3_endpoint_config(\n",
      "\u001b[1;32m~\\anaconda3\\lib\\site-packages\\botocore\\args.py\u001b[0m in \u001b[0;36m_resolve_endpoint\u001b[1;34m(self, service_name, region_name, endpoint_url, is_secure, endpoint_bridge)\u001b[0m\n\u001b[0;32m    406\u001b[0m         \u001b[0mendpoint_bridge\u001b[0m\u001b[1;33m,\u001b[0m\u001b[1;33m\u001b[0m\u001b[1;33m\u001b[0m\u001b[0m\n\u001b[0;32m    407\u001b[0m     ):\n\u001b[1;32m--> 408\u001b[1;33m         return endpoint_bridge.resolve(\n\u001b[0m\u001b[0;32m    409\u001b[0m             \u001b[0mservice_name\u001b[0m\u001b[1;33m,\u001b[0m \u001b[0mregion_name\u001b[0m\u001b[1;33m,\u001b[0m \u001b[0mendpoint_url\u001b[0m\u001b[1;33m,\u001b[0m \u001b[0mis_secure\u001b[0m\u001b[1;33m\u001b[0m\u001b[1;33m\u001b[0m\u001b[0m\n\u001b[0;32m    410\u001b[0m         )\n",
      "\u001b[1;32m~\\anaconda3\\lib\\site-packages\\botocore\\client.py\u001b[0m in \u001b[0;36mresolve\u001b[1;34m(self, service_name, region_name, endpoint_url, is_secure)\u001b[0m\n\u001b[0;32m    563\u001b[0m             \u001b[1;34m'use_fips_endpoint'\u001b[0m\u001b[1;33m\u001b[0m\u001b[1;33m\u001b[0m\u001b[0m\n\u001b[0;32m    564\u001b[0m         )\n\u001b[1;32m--> 565\u001b[1;33m         resolved = self.endpoint_resolver.construct_endpoint(\n\u001b[0m\u001b[0;32m    566\u001b[0m             \u001b[0mservice_name\u001b[0m\u001b[1;33m,\u001b[0m\u001b[1;33m\u001b[0m\u001b[1;33m\u001b[0m\u001b[0m\n\u001b[0;32m    567\u001b[0m             \u001b[0mregion_name\u001b[0m\u001b[1;33m,\u001b[0m\u001b[1;33m\u001b[0m\u001b[1;33m\u001b[0m\u001b[0m\n",
      "\u001b[1;32m~\\anaconda3\\lib\\site-packages\\botocore\\regions.py\u001b[0m in \u001b[0;36mconstruct_endpoint\u001b[1;34m(self, service_name, region_name, partition_name, use_dualstack_endpoint, use_fips_endpoint)\u001b[0m\n\u001b[0;32m    226\u001b[0m             ):\n\u001b[0;32m    227\u001b[0m                 \u001b[1;32mcontinue\u001b[0m\u001b[1;33m\u001b[0m\u001b[1;33m\u001b[0m\u001b[0m\n\u001b[1;32m--> 228\u001b[1;33m             result = self._endpoint_for_partition(\n\u001b[0m\u001b[0;32m    229\u001b[0m                 \u001b[0mpartition\u001b[0m\u001b[1;33m,\u001b[0m\u001b[1;33m\u001b[0m\u001b[1;33m\u001b[0m\u001b[0m\n\u001b[0;32m    230\u001b[0m                 \u001b[0mservice_name\u001b[0m\u001b[1;33m,\u001b[0m\u001b[1;33m\u001b[0m\u001b[1;33m\u001b[0m\u001b[0m\n",
      "\u001b[1;32m~\\anaconda3\\lib\\site-packages\\botocore\\regions.py\u001b[0m in \u001b[0;36m_endpoint_for_partition\u001b[1;34m(self, partition, service_name, region_name, use_dualstack_endpoint, use_fips_endpoint, force_partition)\u001b[0m\n\u001b[0;32m    274\u001b[0m                 \u001b[0mregion_name\u001b[0m \u001b[1;33m=\u001b[0m \u001b[0mservice_data\u001b[0m\u001b[1;33m[\u001b[0m\u001b[1;34m'partitionEndpoint'\u001b[0m\u001b[1;33m]\u001b[0m\u001b[1;33m\u001b[0m\u001b[1;33m\u001b[0m\u001b[0m\n\u001b[0;32m    275\u001b[0m             \u001b[1;32melse\u001b[0m\u001b[1;33m:\u001b[0m\u001b[1;33m\u001b[0m\u001b[1;33m\u001b[0m\u001b[0m\n\u001b[1;32m--> 276\u001b[1;33m                 \u001b[1;32mraise\u001b[0m \u001b[0mNoRegionError\u001b[0m\u001b[1;33m(\u001b[0m\u001b[1;33m)\u001b[0m\u001b[1;33m\u001b[0m\u001b[1;33m\u001b[0m\u001b[0m\n\u001b[0m\u001b[0;32m    277\u001b[0m \u001b[1;33m\u001b[0m\u001b[0m\n\u001b[0;32m    278\u001b[0m         resolve_kwargs = {\n",
      "\u001b[1;31mNoRegionError\u001b[0m: You must specify a region."
     ]
    }
   ],
   "source": [
    "import boto3\n",
    "from braket.aws import AwsDevice\n",
    "from braket.ocean_plugin import BraketSampler, BraketDWaveSampler\n",
    "\n",
    "##   Put Amazon-Braket account details here!!\n",
    "\n",
    "sampler = BraketDWaveSampler(device_arn='arn:aws:braket:::device/qpu/d-wave/DW_2000Q_6')\n",
    "sampler = EmbeddingComposite(sampler)\n",
    "num_shots = 1000\n",
    "route = traveling_salesperson(G, sampler, lagrange=lagrange,\n",
    "                              start=0, num_reads=num_shots, answer_mode=\"histogram\")\n",
    "print('Route found with D-Wave:', route)\n",
    "total_dist = 0\n",
    "for idx, node in enumerate(route[:-1]):\n",
    "    dist = data[route[idx+1]][route[idx]]\n",
    "    total_dist += dist\n",
    "    \n",
    "return_distance = data[route[0]][route[-1]]\n",
    "print('Total distance from D-Wave quantum annealer, including return to initial node:',\n",
    "      return_distance+total_dist)"
   ]
  },
  {
   "cell_type": "code",
   "execution_count": null,
   "id": "cc96eee2",
   "metadata": {},
   "outputs": [],
   "source": []
  }
 ],
 "metadata": {
  "kernelspec": {
   "display_name": "Python 3 (ipykernel)",
   "language": "python",
   "name": "python3"
  },
  "language_info": {
   "codemirror_mode": {
    "name": "ipython",
    "version": 3
   },
   "file_extension": ".py",
   "mimetype": "text/x-python",
   "name": "python",
   "nbconvert_exporter": "python",
   "pygments_lexer": "ipython3",
   "version": "3.10.6"
  }
 },
 "nbformat": 4,
 "nbformat_minor": 5
}
