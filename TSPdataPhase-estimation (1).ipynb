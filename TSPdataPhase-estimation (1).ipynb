{
 "cells": [
  {
   "cell_type": "code",
   "execution_count": 1,
   "id": "39eaa1e0-4b64-47a5-83e3-96a406438a11",
   "metadata": {},
   "outputs": [
    {
     "name": "stderr",
     "output_type": "stream",
     "text": [
      "<frozen importlib._bootstrap>:219: RuntimeWarning: scipy._lib.messagestream.MessageStream size changed, may indicate binary incompatibility. Expected 56 from C header, got 64 from PyObject\n"
     ]
    }
   ],
   "source": [
    "import numpy as np\n",
    "\n",
    "# Importing standard Qiskit libraries\n",
    "from qiskit import QuantumCircuit, transpile, Aer, IBMQ\n",
    "from qiskit.tools.jupyter import *\n",
    "from qiskit.visualization import *\n",
    "from ibm_quantum_widgets import *\n",
    "from qiskit.providers.aer import QasmSimulator\n",
    "\n",
    "# Loading your IBM Quantum account(s)\n",
    "provider = IBMQ.load_account()"
   ]
  },
  {
   "cell_type": "code",
   "execution_count": 2,
   "id": "a9b1d585-432b-40a3-be01-5f7f0878c032",
   "metadata": {},
   "outputs": [],
   "source": [
    "# Lets import all the necessary libraries\n",
    "from qiskit import QuantumCircuit, Aer, QuantumRegister, ClassicalRegister, execute\n",
    "from qiskit.visualization import plot_histogram, array_to_latex\n",
    "from qiskit.circuit.library import QFT\n",
    "from numpy import pi"
   ]
  },
  {
   "cell_type": "code",
   "execution_count": 3,
   "id": "be8d357b-e7d3-4afb-b4d2-61d26a1ed5f5",
   "metadata": {},
   "outputs": [],
   "source": [
    "def controlled_unitary(qc, qubits: list, phases: list): # x,y,z = Specific Qubit; a,b,c,d = Phases\n",
    "    qc.cp(phases[2]-phases[0], qubits[0], qubits[1]) # controlled-U1(c-a)\n",
    "    qc.p(phases[0], qubits[0]) # U1(a)\n",
    "    qc.cp(phases[1]-phases[0], qubits[0], qubits[2]) # controlled-U1(b-a)\n",
    "    \n",
    "    # controlled controlled U1(d-c+a-b)\n",
    "    qc.cp((phases[3]-phases[2]+phases[0]-phases[1])/2, qubits[1], qubits[2])\n",
    "    qc.cx(qubits[0], qubits[1])\n",
    "    qc.cp(-(phases[3]-phases[2]+phases[0]-phases[1])/2, qubits[1], qubits[2])\n",
    "    qc.cx(qubits[0], qubits[1])\n",
    "    qc.cp((phases[3]-phases[2]+phases[0]-phases[1])/2, qubits[0], qubits[2])"
   ]
  },
  {
   "cell_type": "code",
   "execution_count": 4,
   "id": "15358805-7d92-479e-9c6a-b04335144782",
   "metadata": {},
   "outputs": [],
   "source": [
    "def U(times, qc, unit, eigen, phases: list): # a,b,c = phases for U1; d,e,f = phases for U2; g,h,i = phases for U3; j,k,l = phases for U4; m_list=[m, n, o, p, q, r, s, t, u, a, b, c, d, e, f, g, h, i, j, k, l]\n",
    "    controlled_unitary(qc, [unit[0]]+eigen[0:2], [0]+phases[0:3])\n",
    "    controlled_unitary(qc, [unit[0]]+eigen[2:4], [phases[3]]+[0]+phases[4:6])\n",
    "    controlled_unitary(qc, [unit[0]]+eigen[4:6], phases[6:8]+[0]+[phases[8]])\n",
    "    controlled_unitary(qc, [unit[0]]+eigen[6:8], phases[9:12]+[0])"
   ]
  },
  {
   "cell_type": "code",
   "execution_count": 5,
   "id": "b774d3c7-2e83-4c3d-833d-7480b1598799",
   "metadata": {},
   "outputs": [],
   "source": [
    "def final_U(times, eigen, phases: list):\n",
    "    unit = QuantumRegister(1, 'unit')\n",
    "    qc = QuantumCircuit(unit, eigen)\n",
    "    for _ in range(2**times):\n",
    "        U(times, qc, unit, eigen, phases)\n",
    "    return qc.to_gate(label='U'+'_'+(str(2**times)))"
   ]
  },
  {
   "cell_type": "code",
   "execution_count": 6,
   "id": "406e3550-d0d6-4d95-b13b-5eb7b2dd0663",
   "metadata": {},
   "outputs": [],
   "source": [
    "# Storing the eigenvalues in a list\n",
    "eigen_values = [\"11000110\", \"01001110\", \"10001101\", \"11001001\", \"10000111\", \"01001011\"]\n",
    "\n",
    "# Function to place appropriate corresponding gate according to eigenstates\n",
    "def eigenstates(qc, eigen, index):\n",
    "    for i in range(0, len(eigen)):\n",
    "        if eigen_values[index][i] == '1':\n",
    "            qc.x(eigen[i])\n",
    "        if eigen_values[index][i] == '0':\n",
    "            pass\n",
    "    qc.barrier()\n",
    "    return qc"
   ]
  },
  {
   "cell_type": "code",
   "execution_count": 7,
   "id": "4f11e4f4-d1b2-49ba-82c0-ff61b442caa9",
   "metadata": {},
   "outputs": [
    {
     "name": "stdout",
     "output_type": "stream",
     "text": [
      "{'100000': 8192}\n",
      "{'100000': 8192}\n",
      "{'100000': 8192}\n",
      "{'100000': 8192}\n",
      "{'100000': 8192}\n",
      "{'100000': 8192}\n"
     ]
    }
   ],
   "source": [
    "for i in range (0,6):\n",
    "    # Initialization\n",
    "    unit = QuantumRegister(6, 'unit')\n",
    "    eigen = QuantumRegister(8, 'eigen')\n",
    "    unit_classical = ClassicalRegister(6, 'unit_classical')\n",
    "    qc = QuantumCircuit(unit, eigen, unit_classical)\n",
    "    #\n",
    "\n",
    "    # Setting one eigenstate \n",
    "    # Playing with the first eigenstate here i.e. 11000110 from eigen_values list.\n",
    "    # (Try to play with other eigenstates from the eigen_values list)\n",
    "    eigenstates(qc, eigen, 2)\n",
    "    #\n",
    "\n",
    "    # Hadamard on the 'unit' qubits\n",
    "    qc.h(unit[:])\n",
    "    qc.barrier()\n",
    "    #\n",
    "\n",
    "    # Controlled Unitary  \n",
    "\n",
    "    phases = [pi /2 , pi / 8, pi /4 , pi /2 , pi /4 , pi /4, pi /8 , pi /4 , pi / 8, pi /4 , pi / 4, pi / 8] # a, b, c, d, e, f, g, h, i, j, k, l\n",
    "    for i in range(0, 6):\n",
    "        qc.append(final_U(i, eigen, phases), [unit[5-i]] + eigen[:])\n",
    "\n",
    "    #print(phases)\n",
    "    #\n",
    "\n",
    "\n",
    "    # Inverse QFT \n",
    "    qc.barrier()\n",
    "    qft = QFT(num_qubits=len(unit), inverse=True, insert_barriers=True, do_swaps=False, name='Inverse QFT')\n",
    "    qc.append(qft, qc.qubits[:len(unit)])\n",
    "    qc.barrier()\n",
    "    #\n",
    "\n",
    "    # Measure\n",
    "    qc.measure(unit, unit_classical)\n",
    "    #\n",
    "\n",
    "    # Draw\n",
    "\n",
    "    qc.draw()\n",
    "\n",
    "    backend = Aer.get_backend('qasm_simulator')\n",
    "    job = execute(qc, backend, shots=8192)\n",
    "    count = job.result().get_counts()\n",
    "    print(count)\n",
    "\n",
    "    with open (\"results.txt\",\"a\") as output_file:\n",
    "        mylist = list(count.keys())\n",
    "        output_file.write(mylist[0])\n",
    "        output_file.write(\"\\n\")"
   ]
  },
  {
   "cell_type": "code",
   "execution_count": null,
   "id": "8996c145-e074-4111-897d-e88db3bac26f",
   "metadata": {},
   "outputs": [],
   "source": []
  }
 ],
 "metadata": {
  "kernelspec": {
   "display_name": "Python 3 (ipykernel)",
   "language": "python",
   "name": "python3"
  },
  "language_info": {
   "codemirror_mode": {
    "name": "ipython",
    "version": 3
   },
   "file_extension": ".py",
   "mimetype": "text/x-python",
   "name": "python",
   "nbconvert_exporter": "python",
   "pygments_lexer": "ipython3",
   "version": "3.8.13"
  },
  "widgets": {
   "application/vnd.jupyter.widget-state+json": {
    "state": {
     "0624776522b949679c7c151a173d1592": {
      "model_module": "@jupyter-widgets/controls",
      "model_module_version": "1.5.0",
      "model_name": "HTMLModel",
      "state": {
       "layout": "IPY_MODEL_3fb06a5411784e089e72662cd0969238",
       "style": "IPY_MODEL_2d80b4be8dfd472ca55d46fa6b8b345e",
       "value": "<h5>Status</h5>"
      }
     },
     "2d80b4be8dfd472ca55d46fa6b8b345e": {
      "model_module": "@jupyter-widgets/controls",
      "model_module_version": "1.5.0",
      "model_name": "DescriptionStyleModel",
      "state": {
       "description_width": ""
      }
     },
     "306306e13e9f43608dac1c8c1bad0fef": {
      "model_module": "@jupyter-widgets/base",
      "model_module_version": "1.2.0",
      "model_name": "LayoutModel",
      "state": {
       "grid_area": "right",
       "padding": "0px 0px 0px 0px",
       "width": "70px"
      }
     },
     "3431b46e921a439b96190a725ac62fb5": {
      "model_module": "@jupyter-widgets/base",
      "model_module_version": "1.2.0",
      "model_name": "LayoutModel",
      "state": {}
     },
     "3d94fc0b8bd74b2a88d96a3d972dad2c": {
      "model_module": "@jupyter-widgets/controls",
      "model_module_version": "1.5.0",
      "model_name": "HTMLModel",
      "state": {
       "layout": "IPY_MODEL_60fbbc68342f49bc81355a231a48f7f4",
       "style": "IPY_MODEL_80e0dc468eb0424c98ec7a71e26455cd",
       "value": "<h5>Backend</h5>"
      }
     },
     "3fb06a5411784e089e72662cd0969238": {
      "model_module": "@jupyter-widgets/base",
      "model_module_version": "1.2.0",
      "model_name": "LayoutModel",
      "state": {
       "width": "95px"
      }
     },
     "43c38c70ec30476687486b340a592707": {
      "model_module": "@jupyter-widgets/controls",
      "model_module_version": "1.5.0",
      "model_name": "DescriptionStyleModel",
      "state": {
       "description_width": ""
      }
     },
     "60fbbc68342f49bc81355a231a48f7f4": {
      "model_module": "@jupyter-widgets/base",
      "model_module_version": "1.2.0",
      "model_name": "LayoutModel",
      "state": {
       "width": "145px"
      }
     },
     "7d961c7d930f471fa86454e5c8365848": {
      "model_module": "@jupyter-widgets/controls",
      "model_module_version": "1.5.0",
      "model_name": "ButtonStyleModel",
      "state": {}
     },
     "80e0dc468eb0424c98ec7a71e26455cd": {
      "model_module": "@jupyter-widgets/controls",
      "model_module_version": "1.5.0",
      "model_name": "DescriptionStyleModel",
      "state": {
       "description_width": ""
      }
     },
     "887971f283c443268cca0bc36c8a6a51": {
      "model_module": "@jupyter-widgets/controls",
      "model_module_version": "1.5.0",
      "model_name": "HTMLModel",
      "state": {
       "layout": "IPY_MODEL_dbe2d93f7dea4ba0943553d73ec48df5",
       "style": "IPY_MODEL_ee9be501945f45e595f87a027005baab",
       "value": "<p style='font-family: IBM Plex Sans, Arial, Helvetica, sans-serif; font-size: 20px; font-weight: medium;'>Circuit Properties</p>"
      }
     },
     "8adf6dbf6b0f40abac4392722c23b9cf": {
      "model_module": "@jupyter-widgets/base",
      "model_module_version": "1.2.0",
      "model_name": "LayoutModel",
      "state": {
       "margin": "0px 0px 0px 37px",
       "width": "600px"
      }
     },
     "91a064b8aa0c4f33b4c107bb9015e8d5": {
      "model_module": "@jupyter-widgets/base",
      "model_module_version": "1.2.0",
      "model_name": "LayoutModel",
      "state": {
       "grid_template_areas": "\n                                       \". . . . right \"\n                                        ",
       "grid_template_columns": "20% 20% 20% 20% 20%",
       "width": "100%"
      }
     },
     "ac721374d6c5408c910c6ecd8c2669fb": {
      "model_module": "@jupyter-widgets/controls",
      "model_module_version": "1.5.0",
      "model_name": "GridBoxModel",
      "state": {
       "children": [
        "IPY_MODEL_fd0be3527f704a8b9acfa34c6c48fd26"
       ],
       "layout": "IPY_MODEL_91a064b8aa0c4f33b4c107bb9015e8d5"
      }
     },
     "aed7bf5d723f4133b397ee764a48b8e5": {
      "model_module": "@jupyter-widgets/controls",
      "model_module_version": "1.5.0",
      "model_name": "HTMLModel",
      "state": {
       "layout": "IPY_MODEL_db647e4f7786462abf02dd81b5208ac2",
       "style": "IPY_MODEL_b33f565165674e9c8e5010e07d6d44a9",
       "value": "<h5>Job ID</h5>"
      }
     },
     "b0bd6c8133f8442f86fa54ec4a9745e9": {
      "model_module": "@jupyter-widgets/base",
      "model_module_version": "1.2.0",
      "model_name": "LayoutModel",
      "state": {
       "width": "70px"
      }
     },
     "b33f565165674e9c8e5010e07d6d44a9": {
      "model_module": "@jupyter-widgets/controls",
      "model_module_version": "1.5.0",
      "model_name": "DescriptionStyleModel",
      "state": {
       "description_width": ""
      }
     },
     "db647e4f7786462abf02dd81b5208ac2": {
      "model_module": "@jupyter-widgets/base",
      "model_module_version": "1.2.0",
      "model_name": "LayoutModel",
      "state": {
       "width": "190px"
      }
     },
     "dbe2d93f7dea4ba0943553d73ec48df5": {
      "model_module": "@jupyter-widgets/base",
      "model_module_version": "1.2.0",
      "model_name": "LayoutModel",
      "state": {
       "margin": "0px 0px 10px 0px"
      }
     },
     "e066fc10a6b54f70b62f705f15828e0a": {
      "model_module": "@jupyter-widgets/controls",
      "model_module_version": "1.5.0",
      "model_name": "HBoxModel",
      "state": {
       "children": [
        "IPY_MODEL_aed7bf5d723f4133b397ee764a48b8e5",
        "IPY_MODEL_3d94fc0b8bd74b2a88d96a3d972dad2c",
        "IPY_MODEL_0624776522b949679c7c151a173d1592",
        "IPY_MODEL_e23b015f6c2f4034ad5bb865ac85325f",
        "IPY_MODEL_fabf303b4b2845f9a396702178528015"
       ],
       "layout": "IPY_MODEL_8adf6dbf6b0f40abac4392722c23b9cf"
      }
     },
     "e23b015f6c2f4034ad5bb865ac85325f": {
      "model_module": "@jupyter-widgets/controls",
      "model_module_version": "1.5.0",
      "model_name": "HTMLModel",
      "state": {
       "layout": "IPY_MODEL_b0bd6c8133f8442f86fa54ec4a9745e9",
       "style": "IPY_MODEL_43c38c70ec30476687486b340a592707",
       "value": "<h5>Queue</h5>"
      }
     },
     "ee9be501945f45e595f87a027005baab": {
      "model_module": "@jupyter-widgets/controls",
      "model_module_version": "1.5.0",
      "model_name": "DescriptionStyleModel",
      "state": {
       "description_width": ""
      }
     },
     "fabf303b4b2845f9a396702178528015": {
      "model_module": "@jupyter-widgets/controls",
      "model_module_version": "1.5.0",
      "model_name": "HTMLModel",
      "state": {
       "layout": "IPY_MODEL_3431b46e921a439b96190a725ac62fb5",
       "style": "IPY_MODEL_fd3152e445764d6aa9f412720e94e9f1",
       "value": "<h5>Message</h5>"
      }
     },
     "fd0be3527f704a8b9acfa34c6c48fd26": {
      "model_module": "@jupyter-widgets/controls",
      "model_module_version": "1.5.0",
      "model_name": "ButtonModel",
      "state": {
       "button_style": "primary",
       "description": "Clear",
       "layout": "IPY_MODEL_306306e13e9f43608dac1c8c1bad0fef",
       "style": "IPY_MODEL_7d961c7d930f471fa86454e5c8365848"
      }
     },
     "fd3152e445764d6aa9f412720e94e9f1": {
      "model_module": "@jupyter-widgets/controls",
      "model_module_version": "1.5.0",
      "model_name": "DescriptionStyleModel",
      "state": {
       "description_width": ""
      }
     }
    },
    "version_major": 2,
    "version_minor": 0
   }
  }
 },
 "nbformat": 4,
 "nbformat_minor": 5
}
